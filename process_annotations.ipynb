{
 "cells": [
  {
   "cell_type": "code",
   "execution_count": 7,
   "metadata": {},
   "outputs": [],
   "source": [
    "import pandas as pd"
   ]
  },
  {
   "cell_type": "code",
   "execution_count": 6,
   "metadata": {},
   "outputs": [],
   "source": [
    "df = pd.read_json(\"annotations.jsonl\", orient=\"records\", lines=True)"
   ]
  },
  {
   "cell_type": "code",
   "execution_count": 7,
   "metadata": {},
   "outputs": [],
   "source": [
    "df = df.drop_duplicates(subset=[\"text\"])"
   ]
  },
  {
   "cell_type": "code",
   "execution_count": 8,
   "metadata": {},
   "outputs": [
    {
     "data": {
      "text/plain": [
       "accept    123\n",
       "reject     21\n",
       "ignore     17\n",
       "Name: answer, dtype: int64"
      ]
     },
     "execution_count": 8,
     "metadata": {},
     "output_type": "execute_result"
    }
   ],
   "source": [
    "df.answer.value_counts()"
   ]
  },
  {
   "cell_type": "code",
   "execution_count": 9,
   "metadata": {},
   "outputs": [],
   "source": [
    "df = df[df.answer.isin([\"accept\", \"reject\"])]"
   ]
  },
  {
   "cell_type": "code",
   "execution_count": 10,
   "metadata": {},
   "outputs": [
    {
     "data": {
      "text/html": [
       "<div>\n",
       "<style scoped>\n",
       "    .dataframe tbody tr th:only-of-type {\n",
       "        vertical-align: middle;\n",
       "    }\n",
       "\n",
       "    .dataframe tbody tr th {\n",
       "        vertical-align: top;\n",
       "    }\n",
       "\n",
       "    .dataframe thead th {\n",
       "        text-align: right;\n",
       "    }\n",
       "</style>\n",
       "<table border=\"1\" class=\"dataframe\">\n",
       "  <thead>\n",
       "    <tr style=\"text-align: right;\">\n",
       "      <th></th>\n",
       "      <th>text</th>\n",
       "      <th>meta</th>\n",
       "      <th>_input_hash</th>\n",
       "      <th>_task_hash</th>\n",
       "      <th>label</th>\n",
       "      <th>score</th>\n",
       "      <th>priority</th>\n",
       "      <th>spans</th>\n",
       "      <th>_view_id</th>\n",
       "      <th>answer</th>\n",
       "      <th>_timestamp</th>\n",
       "    </tr>\n",
       "  </thead>\n",
       "  <tbody>\n",
       "    <tr>\n",
       "      <th>0</th>\n",
       "      <td>attention of the public.IMPROVEMENT IN STEAM N...</td>\n",
       "      <td>{'date': -3661459200000, 'location': 'Liverpoo...</td>\n",
       "      <td>1367150814</td>\n",
       "      <td>-1818130875</td>\n",
       "      <td>POLITICAL</td>\n",
       "      <td>0.491696</td>\n",
       "      <td>0.491696</td>\n",
       "      <td>[]</td>\n",
       "      <td>classification</td>\n",
       "      <td>reject</td>\n",
       "      <td>1661245380</td>\n",
       "    </tr>\n",
       "    <tr>\n",
       "      <th>1</th>\n",
       "      <td>revolutionists see-ing the hopelessness of suc...</td>\n",
       "      <td>{'date': -3661286400000, 'location': 'Liverpoo...</td>\n",
       "      <td>1497902585</td>\n",
       "      <td>344875813</td>\n",
       "      <td>POLITICAL</td>\n",
       "      <td>0.490497</td>\n",
       "      <td>0.490497</td>\n",
       "      <td>[]</td>\n",
       "      <td>classification</td>\n",
       "      <td>accept</td>\n",
       "      <td>1661245387</td>\n",
       "    </tr>\n",
       "    <tr>\n",
       "      <th>2</th>\n",
       "      <td>Caleste and Mr. Benjamin Webster, are fulfilli...</td>\n",
       "      <td>{'date': -3666988800000, 'location': 'Liverpoo...</td>\n",
       "      <td>-1754805272</td>\n",
       "      <td>645741434</td>\n",
       "      <td>POLITICAL</td>\n",
       "      <td>0.487390</td>\n",
       "      <td>0.487390</td>\n",
       "      <td>[]</td>\n",
       "      <td>classification</td>\n",
       "      <td>accept</td>\n",
       "      <td>1661245402</td>\n",
       "    </tr>\n",
       "    <tr>\n",
       "      <th>3</th>\n",
       "      <td>that feeling of devotion in those departments ...</td>\n",
       "      <td>{'date': -3663792000000, 'location': 'Liverpoo...</td>\n",
       "      <td>-680232274</td>\n",
       "      <td>780456910</td>\n",
       "      <td>POLITICAL</td>\n",
       "      <td>0.513351</td>\n",
       "      <td>0.513351</td>\n",
       "      <td>[]</td>\n",
       "      <td>classification</td>\n",
       "      <td>accept</td>\n",
       "      <td>1661245417</td>\n",
       "    </tr>\n",
       "    <tr>\n",
       "      <th>4</th>\n",
       "      <td>that the education wrangle has itspecuniary ad...</td>\n",
       "      <td>{'date': -3662496000000, 'location': 'Liverpoo...</td>\n",
       "      <td>-305140390</td>\n",
       "      <td>-1445931393</td>\n",
       "      <td>POLITICAL</td>\n",
       "      <td>0.486170</td>\n",
       "      <td>0.486170</td>\n",
       "      <td>[]</td>\n",
       "      <td>classification</td>\n",
       "      <td>accept</td>\n",
       "      <td>1661245427</td>\n",
       "    </tr>\n",
       "    <tr>\n",
       "      <th>...</th>\n",
       "      <td>...</td>\n",
       "      <td>...</td>\n",
       "      <td>...</td>\n",
       "      <td>...</td>\n",
       "      <td>...</td>\n",
       "      <td>...</td>\n",
       "      <td>...</td>\n",
       "      <td>...</td>\n",
       "      <td>...</td>\n",
       "      <td>...</td>\n",
       "      <td>...</td>\n",
       "    </tr>\n",
       "    <tr>\n",
       "      <th>234</th>\n",
       "      <td>from, the velocity of the vessels. The SarahPa...</td>\n",
       "      <td>{'date': -3580502400000, 'location': 'Liverpoo...</td>\n",
       "      <td>804903967</td>\n",
       "      <td>-1405682507</td>\n",
       "      <td>POLITICAL</td>\n",
       "      <td>NaN</td>\n",
       "      <td>NaN</td>\n",
       "      <td>NaN</td>\n",
       "      <td>classification</td>\n",
       "      <td>reject</td>\n",
       "      <td>1661266333</td>\n",
       "    </tr>\n",
       "    <tr>\n",
       "      <th>235</th>\n",
       "      <td>and a mail from China.FRANCE.(FROM OUR OW4,,CO...</td>\n",
       "      <td>{'date': -3580502400000, 'location': 'Liverpoo...</td>\n",
       "      <td>-803952962</td>\n",
       "      <td>596394159</td>\n",
       "      <td>POLITICAL</td>\n",
       "      <td>NaN</td>\n",
       "      <td>NaN</td>\n",
       "      <td>NaN</td>\n",
       "      <td>classification</td>\n",
       "      <td>accept</td>\n",
       "      <td>1661266347</td>\n",
       "    </tr>\n",
       "    <tr>\n",
       "      <th>236</th>\n",
       "      <td>unmoved during the trial,now said that he shou...</td>\n",
       "      <td>{'date': -3580502400000, 'location': 'Liverpoo...</td>\n",
       "      <td>-121517767</td>\n",
       "      <td>421909678</td>\n",
       "      <td>POLITICAL</td>\n",
       "      <td>NaN</td>\n",
       "      <td>NaN</td>\n",
       "      <td>NaN</td>\n",
       "      <td>classification</td>\n",
       "      <td>accept</td>\n",
       "      <td>1661266355</td>\n",
       "    </tr>\n",
       "    <tr>\n",
       "      <th>237</th>\n",
       "      <td>parties themselves without anyriegociatiens by...</td>\n",
       "      <td>{'date': -3580416000000, 'location': 'Liverpoo...</td>\n",
       "      <td>604792436</td>\n",
       "      <td>2035626947</td>\n",
       "      <td>POLITICAL</td>\n",
       "      <td>NaN</td>\n",
       "      <td>NaN</td>\n",
       "      <td>NaN</td>\n",
       "      <td>classification</td>\n",
       "      <td>accept</td>\n",
       "      <td>1661266377</td>\n",
       "    </tr>\n",
       "    <tr>\n",
       "      <th>239</th>\n",
       "      <td>the govern•anent to-day confirm the news of th...</td>\n",
       "      <td>{'date': -3580243200000, 'location': 'Liverpoo...</td>\n",
       "      <td>-982186764</td>\n",
       "      <td>98680693</td>\n",
       "      <td>POLITICAL</td>\n",
       "      <td>NaN</td>\n",
       "      <td>NaN</td>\n",
       "      <td>NaN</td>\n",
       "      <td>classification</td>\n",
       "      <td>accept</td>\n",
       "      <td>1661266618</td>\n",
       "    </tr>\n",
       "  </tbody>\n",
       "</table>\n",
       "<p>144 rows × 11 columns</p>\n",
       "</div>"
      ],
      "text/plain": [
       "                                                  text  \\\n",
       "0    attention of the public.IMPROVEMENT IN STEAM N...   \n",
       "1    revolutionists see-ing the hopelessness of suc...   \n",
       "2    Caleste and Mr. Benjamin Webster, are fulfilli...   \n",
       "3    that feeling of devotion in those departments ...   \n",
       "4    that the education wrangle has itspecuniary ad...   \n",
       "..                                                 ...   \n",
       "234  from, the velocity of the vessels. The SarahPa...   \n",
       "235  and a mail from China.FRANCE.(FROM OUR OW4,,CO...   \n",
       "236  unmoved during the trial,now said that he shou...   \n",
       "237  parties themselves without anyriegociatiens by...   \n",
       "239  the govern•anent to-day confirm the news of th...   \n",
       "\n",
       "                                                  meta  _input_hash  \\\n",
       "0    {'date': -3661459200000, 'location': 'Liverpoo...   1367150814   \n",
       "1    {'date': -3661286400000, 'location': 'Liverpoo...   1497902585   \n",
       "2    {'date': -3666988800000, 'location': 'Liverpoo...  -1754805272   \n",
       "3    {'date': -3663792000000, 'location': 'Liverpoo...   -680232274   \n",
       "4    {'date': -3662496000000, 'location': 'Liverpoo...   -305140390   \n",
       "..                                                 ...          ...   \n",
       "234  {'date': -3580502400000, 'location': 'Liverpoo...    804903967   \n",
       "235  {'date': -3580502400000, 'location': 'Liverpoo...   -803952962   \n",
       "236  {'date': -3580502400000, 'location': 'Liverpoo...   -121517767   \n",
       "237  {'date': -3580416000000, 'location': 'Liverpoo...    604792436   \n",
       "239  {'date': -3580243200000, 'location': 'Liverpoo...   -982186764   \n",
       "\n",
       "     _task_hash      label     score  priority spans        _view_id  answer  \\\n",
       "0   -1818130875  POLITICAL  0.491696  0.491696    []  classification  reject   \n",
       "1     344875813  POLITICAL  0.490497  0.490497    []  classification  accept   \n",
       "2     645741434  POLITICAL  0.487390  0.487390    []  classification  accept   \n",
       "3     780456910  POLITICAL  0.513351  0.513351    []  classification  accept   \n",
       "4   -1445931393  POLITICAL  0.486170  0.486170    []  classification  accept   \n",
       "..          ...        ...       ...       ...   ...             ...     ...   \n",
       "234 -1405682507  POLITICAL       NaN       NaN   NaN  classification  reject   \n",
       "235   596394159  POLITICAL       NaN       NaN   NaN  classification  accept   \n",
       "236   421909678  POLITICAL       NaN       NaN   NaN  classification  accept   \n",
       "237  2035626947  POLITICAL       NaN       NaN   NaN  classification  accept   \n",
       "239    98680693  POLITICAL       NaN       NaN   NaN  classification  accept   \n",
       "\n",
       "     _timestamp  \n",
       "0    1661245380  \n",
       "1    1661245387  \n",
       "2    1661245402  \n",
       "3    1661245417  \n",
       "4    1661245427  \n",
       "..          ...  \n",
       "234  1661266333  \n",
       "235  1661266347  \n",
       "236  1661266355  \n",
       "237  1661266377  \n",
       "239  1661266618  \n",
       "\n",
       "[144 rows x 11 columns]"
      ]
     },
     "execution_count": 10,
     "metadata": {},
     "output_type": "execute_result"
    }
   ],
   "source": [
    "df"
   ]
  },
  {
   "cell_type": "markdown",
   "metadata": {},
   "source": [
    "## Process combined annotations"
   ]
  },
  {
   "cell_type": "code",
   "execution_count": 61,
   "metadata": {},
   "outputs": [],
   "source": [
    "df = pd.read_csv(\"HMD_revolution_annotations - annotations.csv\", index_col=0)"
   ]
  },
  {
   "cell_type": "code",
   "execution_count": 62,
   "metadata": {},
   "outputs": [
    {
     "data": {
      "text/plain": [
       "144"
      ]
     },
     "execution_count": 62,
     "metadata": {},
     "output_type": "execute_result"
    }
   ],
   "source": [
    "len(df)"
   ]
  },
  {
   "cell_type": "code",
   "execution_count": 63,
   "metadata": {},
   "outputs": [
    {
     "data": {
      "text/plain": [
       "accept    123\n",
       "reject     21\n",
       "Name: answer, dtype: int64"
      ]
     },
     "execution_count": 63,
     "metadata": {},
     "output_type": "execute_result"
    }
   ],
   "source": [
    "df[\"answer\"].value_counts()"
   ]
  },
  {
   "cell_type": "code",
   "execution_count": 64,
   "metadata": {},
   "outputs": [],
   "source": [
    "from sklearn.metrics import cohen_kappa_score"
   ]
  },
  {
   "cell_type": "code",
   "execution_count": 65,
   "metadata": {},
   "outputs": [],
   "source": [
    "y1 = df[\"answer\"]\n",
    "y2 = df[\"KB_answer\"]"
   ]
  },
  {
   "cell_type": "code",
   "execution_count": 66,
   "metadata": {},
   "outputs": [
    {
     "data": {
      "text/plain": [
       "0.8224101479915433"
      ]
     },
     "execution_count": 66,
     "metadata": {},
     "output_type": "execute_result"
    }
   ],
   "source": [
    "cohen_kappa_score(y1, y2)"
   ]
  },
  {
   "cell_type": "code",
   "execution_count": 67,
   "metadata": {},
   "outputs": [],
   "source": [
    "from huggingface_hub import notebook_login"
   ]
  },
  {
   "cell_type": "code",
   "execution_count": 68,
   "metadata": {},
   "outputs": [],
   "source": [
    "from datasets import Dataset"
   ]
  },
  {
   "cell_type": "code",
   "execution_count": 72,
   "metadata": {},
   "outputs": [],
   "source": [
    "df.reset_index(inplace=True)"
   ]
  },
  {
   "cell_type": "code",
   "execution_count": 73,
   "metadata": {},
   "outputs": [],
   "source": [
    "ds = Dataset.from_pandas(df)"
   ]
  },
  {
   "cell_type": "code",
   "execution_count": 74,
   "metadata": {},
   "outputs": [
    {
     "data": {
      "text/plain": [
       "Dataset({\n",
       "    features: ['index', 'text', 'answer', 'KB_answer', 'meta', '_input_hash', '_task_hash', 'label', 'score', 'priority', 'spans', '_view_id', '_timestamp'],\n",
       "    num_rows: 144\n",
       "})"
      ]
     },
     "execution_count": 74,
     "metadata": {},
     "output_type": "execute_result"
    }
   ],
   "source": [
    "ds"
   ]
  },
  {
   "cell_type": "code",
   "execution_count": 75,
   "metadata": {},
   "outputs": [
    {
     "name": "stderr",
     "output_type": "stream",
     "text": [
      "Pushing dataset shards to the dataset hub:   0%|          | 0/1 [00:00<?, ?it/s]/Users/dvanstrien/miniconda3/envs/biglam/lib/python3.9/site-packages/huggingface_hub/hf_api.py:1948: FutureWarning: `identical_ok` has no effect and is deprecated. It will be removed in 0.11.0.\n",
      "  warnings.warn(\n",
      "Pushing dataset shards to the dataset hub: 100%|██████████| 1/1 [00:04<00:00,  4.62s/it]\n"
     ]
    }
   ],
   "source": [
    "ds.push_to_hub(\"davanstrien/hmd_politics_annotations\", private=True)"
   ]
  }
 ],
 "metadata": {
  "kernelspec": {
   "display_name": "Python 3.9.13",
   "language": "python",
   "name": "python3"
  },
  "language_info": {
   "codemirror_mode": {
    "name": "ipython",
    "version": 3
   },
   "file_extension": ".py",
   "mimetype": "text/x-python",
   "name": "python",
   "nbconvert_exporter": "python",
   "pygments_lexer": "ipython3",
   "version": "3.9.13"
  },
  "orig_nbformat": 4,
  "vscode": {
   "interpreter": {
    "hash": "81edb731834f4dd07f2b1573b532ed19b9daea5e2ffbc20173a805cd5f2b58e8"
   }
  }
 },
 "nbformat": 4,
 "nbformat_minor": 2
}
