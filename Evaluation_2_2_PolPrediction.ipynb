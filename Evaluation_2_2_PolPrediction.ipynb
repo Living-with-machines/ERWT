{
 "cells": [
  {
   "cell_type": "code",
   "execution_count": 4,
   "id": "a7cb5ed6",
   "metadata": {},
   "outputs": [],
   "source": [
    "import torch\n",
    "import seaborn as sns\n",
    "import pandas as pd\n",
    "import transformers\n",
    "from transformers import pipeline, AutoModelForMaskedLM, AutoTokenizer\n",
    "from datasets import load_dataset, load_from_disk\n",
    "from collections import Counter, defaultdict\n",
    "from pathlib import Path\n",
    "import numpy as np\n",
    "from tqdm.auto import tqdm\n",
    "from sklearn.linear_model import LinearRegression\n",
    "sns.set()"
   ]
  },
  {
   "cell_type": "markdown",
   "id": "76e69c5b",
   "metadata": {},
   "source": [
    "## Year Prediction"
   ]
  },
  {
   "cell_type": "code",
   "execution_count": 5,
   "id": "a4ec9a97",
   "metadata": {},
   "outputs": [],
   "source": [
    "test_data = load_from_disk('/datadrive_2/HMD_chunked_100_test')"
   ]
  },
  {
   "cell_type": "code",
   "execution_count": 6,
   "id": "1a6efbd4",
   "metadata": {},
   "outputs": [
    {
     "data": {
      "text/plain": [
       "Dataset({\n",
       "    features: ['year', 'nlp', 'pol', 'loc', 'sentences', 'ocr'],\n",
       "    num_rows: 11315511\n",
       "})"
      ]
     },
     "execution_count": 6,
     "metadata": {},
     "output_type": "execute_result"
    }
   ],
   "source": [
    "test_data"
   ]
  },
  {
   "cell_type": "code",
   "execution_count": 7,
   "id": "89d71091",
   "metadata": {},
   "outputs": [
    {
     "name": "stderr",
     "output_type": "stream",
     "text": [
      "Loading cached processed dataset at /datadrive_2/HMD_chunked_100_test/cache-5f63fae813d1e558.arrow\n"
     ]
    }
   ],
   "source": [
    "test_data = test_data.map(lambda examples: {'sentences': [x.lower() for x in examples['sentences']]}, batched=True)"
   ]
  },
  {
   "cell_type": "code",
   "execution_count": 1,
   "id": "8770b7a5",
   "metadata": {},
   "outputs": [
    {
     "ename": "NameError",
     "evalue": "name 'test_data' is not defined",
     "output_type": "error",
     "traceback": [
      "\u001b[0;31m---------------------------------------------------------------------------\u001b[0m",
      "\u001b[0;31mNameError\u001b[0m                                 Traceback (most recent call last)",
      "Input \u001b[0;32mIn [1]\u001b[0m, in \u001b[0;36m<cell line: 2>\u001b[0;34m()\u001b[0m\n\u001b[1;32m      1\u001b[0m random_select \u001b[38;5;241m=\u001b[39m \u001b[38;5;28;01mTrue\u001b[39;00m\n\u001b[1;32m      2\u001b[0m \u001b[38;5;28;01mif\u001b[39;00m random_select:\n\u001b[0;32m----> 3\u001b[0m     test_set \u001b[38;5;241m=\u001b[39m \u001b[43mtest_data\u001b[49m\u001b[38;5;241m.\u001b[39mshuffle(seed\u001b[38;5;241m=\u001b[39m\u001b[38;5;241m42\u001b[39m)\u001b[38;5;241m.\u001b[39mselect(\u001b[38;5;28mrange\u001b[39m(\u001b[38;5;241m1000\u001b[39m))\n\u001b[1;32m      4\u001b[0m \u001b[38;5;28;01melse\u001b[39;00m:\n\u001b[1;32m      5\u001b[0m     test_set \u001b[38;5;241m=\u001b[39m test_data\u001b[38;5;241m.\u001b[39mfilter(\u001b[38;5;28;01mlambda\u001b[39;00m x: (x[\u001b[38;5;124m'\u001b[39m\u001b[38;5;124myear\u001b[39m\u001b[38;5;124m'\u001b[39m] \u001b[38;5;241m<\u001b[39m\u001b[38;5;241m=\u001b[39m \u001b[38;5;241m1830\u001b[39m) \u001b[38;5;129;01mand\u001b[39;00m (x[\u001b[38;5;124m'\u001b[39m\u001b[38;5;124mocr\u001b[39m\u001b[38;5;124m'\u001b[39m] \u001b[38;5;241m<\u001b[39m \u001b[38;5;241m.5\u001b[39m))\u001b[38;5;241m.\u001b[39mshuffle(seed\u001b[38;5;241m=\u001b[39m\u001b[38;5;241m42\u001b[39m)\u001b[38;5;241m.\u001b[39mselect(\u001b[38;5;28mrange\u001b[39m(\u001b[38;5;241m1000\u001b[39m))\n",
      "\u001b[0;31mNameError\u001b[0m: name 'test_data' is not defined"
     ]
    }
   ],
   "source": [
    "random_select = True\n",
    "if random_select:\n",
    "    test_set = test_data.shuffle(seed=42).select(range(1000))\n",
    "else:\n",
    "    test_set = test_data.filter(lambda x: (x['year'] <= 1830) and (x['ocr'] < .5)).shuffle(seed=42).select(range(1000))"
   ]
  },
  {
   "cell_type": "code",
   "execution_count": 6,
   "id": "bfb261c6",
   "metadata": {},
   "outputs": [],
   "source": [
    "masked_year = False\n",
    "if masked_year:\n",
    "    import re\n",
    "    pattern = re.compile(r'\\b1[789][0-9]{2}\\b')\n",
    "    test_set = test_set.map(lambda x: {'sentences': pattern.sub('[MASK]',x['sentences'])})"
   ]
  },
  {
   "cell_type": "code",
   "execution_count": 92,
   "id": "f249a154",
   "metadata": {},
   "outputs": [],
   "source": [
    "#test_set['sentences']"
   ]
  },
  {
   "cell_type": "code",
   "execution_count": 7,
   "id": "aca0b775",
   "metadata": {},
   "outputs": [
    {
     "data": {
      "application/vnd.jupyter.widget-view+json": {
       "model_id": "8feabd0e2b5547df804883b7deee8892",
       "version_major": 2,
       "version_minor": 0
      },
      "text/plain": [
       "  0%|          | 0/1000 [00:00<?, ?ex/s]"
      ]
     },
     "metadata": {},
     "output_type": "display_data"
    }
   ],
   "source": [
    "def mask_time_token(example,special_token='SEP'):\n",
    "    return {f'masked_{special_token}': f'[MASK] [{special_token}] '+ example['sentences']}\n",
    "test_set = test_set.map(mask_time_token, fn_kwargs={'special_token':'POL'})\n",
    "#test_set = test_set.map(mask_time_token, fn_kwargs={'special_token':'DATE'})"
   ]
  },
  {
   "cell_type": "code",
   "execution_count": 8,
   "id": "64a0d4a3",
   "metadata": {},
   "outputs": [],
   "source": [
    "checkpoints = [('bnert-pol-st','/datadrive_2/bnert-pol-st','POL'),\n",
    "               ('bnert-pol','/datadrive_2/bnert-pol','POL'),\n",
    "               ]\n",
    "\n",
    "model_dict = defaultdict(dict)\n",
    "for name,checkpoint, st in checkpoints:\n",
    "    model_dict[name]['model'] = AutoModelForMaskedLM.from_pretrained(checkpoint)\n",
    "    model_dict[name]['tokenizer'] = AutoTokenizer.from_pretrained(checkpoint)\n",
    "    model_dict[name]['special_token'] = st"
   ]
  },
  {
   "cell_type": "code",
   "execution_count": 9,
   "id": "8408605a",
   "metadata": {},
   "outputs": [
    {
     "data": {
      "text/plain": [
       "{'year': 1853,\n",
       " 'nlp': 2194,\n",
       " 'pol': '[lib]',\n",
       " 'loc': '[london]',\n",
       " 'sentences': 'a slight natural yearning for theadmirable status quo of our constitution ? doesnot lord john feel that affection for the presenthouse of commons, with all its faults, whichprompts a natural parent to resent the interferenceof a neighbour in the education and even the ne-cessary correction of his offspring ? no father, nomother, ever yet tolerated the hand of thestranger on her child. casually, and by the way,lord john says it—but backhanders are alwaysthe strongest blows—\" it would be difficult, per-haps, to find a time in the history of any countrywhen so many measures of importance have beenobtained, without convulsion and',\n",
       " 'ocr': 0.9639,\n",
       " 'masked_POL': '[MASK] [POL] a slight natural yearning for theadmirable status quo of our constitution ? doesnot lord john feel that affection for the presenthouse of commons, with all its faults, whichprompts a natural parent to resent the interferenceof a neighbour in the education and even the ne-cessary correction of his offspring ? no father, nomother, ever yet tolerated the hand of thestranger on her child. casually, and by the way,lord john says it—but backhanders are alwaysthe strongest blows—\" it would be difficult, per-haps, to find a time in the history of any countrywhen so many measures of importance have beenobtained, without convulsion and'}"
      ]
     },
     "execution_count": 9,
     "metadata": {},
     "output_type": "execute_result"
    }
   ],
   "source": [
    "test_set[10]"
   ]
  },
  {
   "cell_type": "code",
   "execution_count": 10,
   "id": "bd19b67e",
   "metadata": {},
   "outputs": [],
   "source": [
    "\n",
    "\n",
    "def get_masked_batches(data,st,batch_size=128):\n",
    "    return (data[i:i+batch_size][f'masked_{st}'] for i in range(0,len(data), batch_size))\n",
    "\n",
    "def get_year_prediction(data,model,tokenizer,st,mask_position=1):\n",
    "    predictions = []\n",
    "    batches = get_masked_batches(data,st)\n",
    "    for batch in tqdm(batches):\n",
    "        inputs = tokenizer(batch, return_tensors='pt', padding='max_length', max_length=256, truncation=True,)\n",
    "        outputs = model(**inputs)\n",
    "        #torch.cuda.empty_cache()\n",
    "        predictions.extend([tokenizer.decode(i.item()) for i in outputs.logits[:,mask_position,:].argmax(dim=-1)])\n",
    "    return predictions"
   ]
  },
  {
   "cell_type": "code",
   "execution_count": 11,
   "id": "40cebaf1",
   "metadata": {},
   "outputs": [
    {
     "data": {
      "application/vnd.jupyter.widget-view+json": {
       "model_id": "0abd7c926a894e3cbadef4f4a1bbd2a3",
       "version_major": 2,
       "version_minor": 0
      },
      "text/plain": [
       "0it [00:00, ?it/s]"
      ]
     },
     "metadata": {},
     "output_type": "display_data"
    },
    {
     "data": {
      "application/vnd.jupyter.widget-view+json": {
       "model_id": "457e0e2ab93e4c3d832e10601555990e",
       "version_major": 2,
       "version_minor": 0
      },
      "text/plain": [
       "0it [00:00, ?it/s]"
      ]
     },
     "metadata": {},
     "output_type": "display_data"
    }
   ],
   "source": [
    "#torch.cuda.empty_cache()\n",
    "result_dict = {}\n",
    "for name, mdict in model_dict.items():\n",
    "    result_dict[name] = get_year_prediction(test_set, \n",
    "                                          model_dict[name]['model'],\n",
    "                                          model_dict[name]['tokenizer'],\n",
    "                                          model_dict[name]['special_token'])"
   ]
  },
  {
   "cell_type": "code",
   "execution_count": 13,
   "id": "f9298e16",
   "metadata": {},
   "outputs": [
    {
     "data": {
      "text/plain": [
       "'[lib]'"
      ]
     },
     "execution_count": 13,
     "metadata": {},
     "output_type": "execute_result"
    }
   ],
   "source": [
    "pols = np.array(test_data['pol'])\n",
    "mc_pols = Counter(pols).most_common(1)[0][0]; mc_pols"
   ]
  },
  {
   "cell_type": "code",
   "execution_count": 17,
   "id": "17fccd15",
   "metadata": {},
   "outputs": [],
   "source": [
    "#st = lambda x: x.lstrip('[').rstrip(']')"
   ]
  },
  {
   "cell_type": "code",
   "execution_count": null,
   "id": "e1376e65",
   "metadata": {},
   "outputs": [],
   "source": []
  },
  {
   "cell_type": "code",
   "execution_count": 74,
   "id": "73985532",
   "metadata": {},
   "outputs": [],
   "source": [
    "lab2string = {'[lib]':'liberal',\n",
    "              '[con]':'conservative',\n",
    "              '[neutr]':'neutral',\n",
    "              '[none]':'none',\n",
    "              '[rad]':'radical'\n",
    "             }\n",
    "\n",
    "def random_baseline(example):\n",
    "    predicted = lab2string[np.random.choice(pols, size=1)[0]]\n",
    "    return {\n",
    "           'random':predicted}\n",
    "\n",
    "\n",
    "def majority_baseline(example):\n",
    "    \n",
    "    y_true = lab2string[example['pol']]\n",
    "    return {'majority':lab2string[mc_pols]}"
   ]
  },
  {
   "cell_type": "code",
   "execution_count": null,
   "id": "ccfe1f49",
   "metadata": {},
   "outputs": [],
   "source": []
  },
  {
   "cell_type": "code",
   "execution_count": 75,
   "id": "48c444db",
   "metadata": {},
   "outputs": [
    {
     "data": {
      "application/vnd.jupyter.widget-view+json": {
       "model_id": "de19b500d05c4a69bc651c65fa6935ce",
       "version_major": 2,
       "version_minor": 0
      },
      "text/plain": [
       "  0%|          | 0/1000 [00:00<?, ?ex/s]"
      ]
     },
     "metadata": {},
     "output_type": "display_data"
    },
    {
     "data": {
      "application/vnd.jupyter.widget-view+json": {
       "model_id": "44c20f8a4e6e471c8d80a30db2335efa",
       "version_major": 2,
       "version_minor": 0
      },
      "text/plain": [
       "  0%|          | 0/1000 [00:00<?, ?ex/s]"
      ]
     },
     "metadata": {},
     "output_type": "display_data"
    }
   ],
   "source": [
    "test_set = test_set.map(random_baseline)\n",
    "test_set = test_set.map(majority_baseline)"
   ]
  },
  {
   "cell_type": "code",
   "execution_count": 76,
   "id": "acd712d1",
   "metadata": {},
   "outputs": [
    {
     "data": {
      "text/plain": [
       "{'year': 1859,\n",
       " 'nlp': 2084,\n",
       " 'pol': '[neutr]',\n",
       " 'loc': '[liverpool]',\n",
       " 'sentences': 'sitenirranv, roy institute as tou ry, v. ireno. i.—nervous debility, loss of kient.„2,l:oo!op orof sight, prostration of physical energy, 1;\\': asor\\'\\'business, study, or society, with dr. marston \\'01coax. men.o• heiti 0addressed specially to young 14. ...e oh 0%—marrlagerbanodbilgaltetipoltnsodanudetilrn°ooimp ten &c. \\' addressed to those who dam. 1010 . totof removing all impediments. qi thee dirpthaenß:orrrs4 2ar.cll\\'of healthful children, clearly expl.-11:91p .no. 3.—tiie great social evil. 11\\' wee voerdiseases which result from it, with da. minor ~,fc „i;,da. massrosi continues to be consulted pe ,e,:.„penned with.veoftiit.reatment, by which msactinr luso* a\\'\\'\\'s,y.o,,tifi,,:vilti9.residence,ez ens-......r5z 0 d-6 orby letter,47, eitherin at thexrßotal.lnsroittitatetßa: 1171,01\\'\"raftpaordrticeuiveargry.inf°\"\"ti°l4 70-00.',\n",
       " 'ocr': 0.643,\n",
       " 'masked_POL': '[MASK] [POL] sitenirranv, roy institute as tou ry, v. ireno. i.—nervous debility, loss of kient.„2,l:oo!op orof sight, prostration of physical energy, 1;\\': asor\\'\\'business, study, or society, with dr. marston \\'01coax. men.o• heiti 0addressed specially to young 14. ...e oh 0%—marrlagerbanodbilgaltetipoltnsodanudetilrn°ooimp ten &c. \\' addressed to those who dam. 1010 . totof removing all impediments. qi thee dirpthaenß:orrrs4 2ar.cll\\'of healthful children, clearly expl.-11:91p .no. 3.—tiie great social evil. 11\\' wee voerdiseases which result from it, with da. minor ~,fc „i;,da. massrosi continues to be consulted pe ,e,:.„penned with.veoftiit.reatment, by which msactinr luso* a\\'\\'\\'s,y.o,,tifi,,:vilti9.residence,ez ens-......r5z 0 d-6 orby letter,47, eitherin at thexrßotal.lnsroittitatetßa: 1171,01\\'\"raftpaordrticeuiveargry.inf°\"\"ti°l4 70-00.',\n",
       " 'random_true': 'neutral',\n",
       " 'random_pred': 'liberal',\n",
       " 'majority_true': 'neutral',\n",
       " 'majority_pred': 'liberal',\n",
       " 'random': 'liberal',\n",
       " 'majority': 'liberal'}"
      ]
     },
     "execution_count": 76,
     "metadata": {},
     "output_type": "execute_result"
    }
   ],
   "source": [
    "test_set[0]"
   ]
  },
  {
   "cell_type": "code",
   "execution_count": 77,
   "id": "e15f56a7",
   "metadata": {},
   "outputs": [],
   "source": [
    "results = test_set.remove_columns(['nlp', 'loc'])"
   ]
  },
  {
   "cell_type": "code",
   "execution_count": 78,
   "id": "8d5faeac",
   "metadata": {},
   "outputs": [],
   "source": [
    "results_df = results.to_pandas()"
   ]
  },
  {
   "cell_type": "code",
   "execution_count": 79,
   "id": "f730ba14",
   "metadata": {},
   "outputs": [],
   "source": [
    "for ch,res in result_dict.items():\n",
    "    results_df[ch] = res"
   ]
  },
  {
   "cell_type": "code",
   "execution_count": 80,
   "id": "7be2ab18",
   "metadata": {},
   "outputs": [],
   "source": [
    "results_df.replace({\"bnert-pol-st\": lab2string},inplace=True)\n",
    "results_df.replace({\"pol\": lab2string},inplace=True)"
   ]
  },
  {
   "cell_type": "code",
   "execution_count": 81,
   "id": "ac8cee9d",
   "metadata": {},
   "outputs": [
    {
     "data": {
      "text/html": [
       "<div>\n",
       "<style scoped>\n",
       "    .dataframe tbody tr th:only-of-type {\n",
       "        vertical-align: middle;\n",
       "    }\n",
       "\n",
       "    .dataframe tbody tr th {\n",
       "        vertical-align: top;\n",
       "    }\n",
       "\n",
       "    .dataframe thead th {\n",
       "        text-align: right;\n",
       "    }\n",
       "</style>\n",
       "<table border=\"1\" class=\"dataframe\">\n",
       "  <thead>\n",
       "    <tr style=\"text-align: right;\">\n",
       "      <th></th>\n",
       "      <th>year</th>\n",
       "      <th>pol</th>\n",
       "      <th>sentences</th>\n",
       "      <th>ocr</th>\n",
       "      <th>masked_POL</th>\n",
       "      <th>random_true</th>\n",
       "      <th>random_pred</th>\n",
       "      <th>majority_true</th>\n",
       "      <th>majority_pred</th>\n",
       "      <th>random</th>\n",
       "      <th>majority</th>\n",
       "      <th>bnert-pol-st</th>\n",
       "      <th>bnert-pol</th>\n",
       "    </tr>\n",
       "  </thead>\n",
       "  <tbody>\n",
       "    <tr>\n",
       "      <th>0</th>\n",
       "      <td>1859</td>\n",
       "      <td>neutral</td>\n",
       "      <td>sitenirranv, roy institute as tou ry, v. ireno...</td>\n",
       "      <td>0.6430</td>\n",
       "      <td>[MASK] [POL] sitenirranv, roy institute as tou...</td>\n",
       "      <td>neutral</td>\n",
       "      <td>liberal</td>\n",
       "      <td>neutral</td>\n",
       "      <td>liberal</td>\n",
       "      <td>liberal</td>\n",
       "      <td>liberal</td>\n",
       "      <td>liberal</td>\n",
       "      <td>liberal</td>\n",
       "    </tr>\n",
       "    <tr>\n",
       "      <th>1</th>\n",
       "      <td>1850</td>\n",
       "      <td>liberal</td>\n",
       "      <td>atveze,and she had a heavy beam-sea during the...</td>\n",
       "      <td>0.8156</td>\n",
       "      <td>[MASK] [POL] atveze,and she had a heavy beam-s...</td>\n",
       "      <td>liberal</td>\n",
       "      <td>none</td>\n",
       "      <td>liberal</td>\n",
       "      <td>liberal</td>\n",
       "      <td>liberal</td>\n",
       "      <td>liberal</td>\n",
       "      <td>liberal</td>\n",
       "      <td>liberal</td>\n",
       "    </tr>\n",
       "    <tr>\n",
       "      <th>2</th>\n",
       "      <td>1823</td>\n",
       "      <td>liberal</td>\n",
       "      <td>withsuch regulations as we have alluded to. we...</td>\n",
       "      <td>0.9192</td>\n",
       "      <td>[MASK] [POL] withsuch regulations as we have a...</td>\n",
       "      <td>liberal</td>\n",
       "      <td>liberal</td>\n",
       "      <td>liberal</td>\n",
       "      <td>liberal</td>\n",
       "      <td>liberal</td>\n",
       "      <td>liberal</td>\n",
       "      <td>liberal</td>\n",
       "      <td>liberal</td>\n",
       "    </tr>\n",
       "    <tr>\n",
       "      <th>3</th>\n",
       "      <td>1848</td>\n",
       "      <td>liberal</td>\n",
       "      <td>atthe several statutes and proceedings of the ...</td>\n",
       "      <td>0.8049</td>\n",
       "      <td>[MASK] [POL] atthe several statutes and procee...</td>\n",
       "      <td>liberal</td>\n",
       "      <td>liberal</td>\n",
       "      <td>liberal</td>\n",
       "      <td>liberal</td>\n",
       "      <td>neutral</td>\n",
       "      <td>liberal</td>\n",
       "      <td>liberal</td>\n",
       "      <td>liberal</td>\n",
       "    </tr>\n",
       "    <tr>\n",
       "      <th>4</th>\n",
       "      <td>1848</td>\n",
       "      <td>liberal</td>\n",
       "      <td>paid, to any address, secure fromobservation, ...</td>\n",
       "      <td>0.8958</td>\n",
       "      <td>[MASK] [POL] paid, to any address, secure from...</td>\n",
       "      <td>liberal</td>\n",
       "      <td>liberal</td>\n",
       "      <td>liberal</td>\n",
       "      <td>liberal</td>\n",
       "      <td>radical</td>\n",
       "      <td>liberal</td>\n",
       "      <td>liberal</td>\n",
       "      <td>liberal</td>\n",
       "    </tr>\n",
       "    <tr>\n",
       "      <th>...</th>\n",
       "      <td>...</td>\n",
       "      <td>...</td>\n",
       "      <td>...</td>\n",
       "      <td>...</td>\n",
       "      <td>...</td>\n",
       "      <td>...</td>\n",
       "      <td>...</td>\n",
       "      <td>...</td>\n",
       "      <td>...</td>\n",
       "      <td>...</td>\n",
       "      <td>...</td>\n",
       "      <td>...</td>\n",
       "      <td>...</td>\n",
       "    </tr>\n",
       "    <tr>\n",
       "      <th>995</th>\n",
       "      <td>1846</td>\n",
       "      <td>liberal</td>\n",
       "      <td>thumb takes the giants down apeg or two—\" from...</td>\n",
       "      <td>0.7595</td>\n",
       "      <td>[MASK] [POL] thumb takes the giants down apeg ...</td>\n",
       "      <td>liberal</td>\n",
       "      <td>liberal</td>\n",
       "      <td>liberal</td>\n",
       "      <td>liberal</td>\n",
       "      <td>liberal</td>\n",
       "      <td>liberal</td>\n",
       "      <td>liberal</td>\n",
       "      <td>liberal</td>\n",
       "    </tr>\n",
       "    <tr>\n",
       "      <th>996</th>\n",
       "      <td>1823</td>\n",
       "      <td>liberal</td>\n",
       "      <td>price of raw fat, per stone of glh.--d\"'6',dpr...</td>\n",
       "      <td>0.6541</td>\n",
       "      <td>[MASK] [POL] price of raw fat, per stone of gl...</td>\n",
       "      <td>liberal</td>\n",
       "      <td>conservative</td>\n",
       "      <td>liberal</td>\n",
       "      <td>liberal</td>\n",
       "      <td>liberal</td>\n",
       "      <td>liberal</td>\n",
       "      <td>liberal</td>\n",
       "      <td>liberal</td>\n",
       "    </tr>\n",
       "    <tr>\n",
       "      <th>997</th>\n",
       "      <td>1847</td>\n",
       "      <td>liberal</td>\n",
       "      <td>of the various disorders arising from the foll...</td>\n",
       "      <td>0.5860</td>\n",
       "      <td>[MASK] [POL] of the various disorders arising ...</td>\n",
       "      <td>liberal</td>\n",
       "      <td>liberal</td>\n",
       "      <td>liberal</td>\n",
       "      <td>liberal</td>\n",
       "      <td>liberal</td>\n",
       "      <td>liberal</td>\n",
       "      <td>liberal</td>\n",
       "      <td>liberal</td>\n",
       "    </tr>\n",
       "    <tr>\n",
       "      <th>998</th>\n",
       "      <td>1845</td>\n",
       "      <td>liberal</td>\n",
       "      <td>cinctitatt7wirmeon, friday.—the queen promenad...</td>\n",
       "      <td>0.9586</td>\n",
       "      <td>[MASK] [POL] cinctitatt7wirmeon, friday.—the q...</td>\n",
       "      <td>liberal</td>\n",
       "      <td>liberal</td>\n",
       "      <td>liberal</td>\n",
       "      <td>liberal</td>\n",
       "      <td>liberal</td>\n",
       "      <td>liberal</td>\n",
       "      <td>liberal</td>\n",
       "      <td>liberal</td>\n",
       "    </tr>\n",
       "    <tr>\n",
       "      <th>999</th>\n",
       "      <td>1825</td>\n",
       "      <td>liberal</td>\n",
       "      <td>theolcvical in,structinn • in the nationaluniv...</td>\n",
       "      <td>0.8100</td>\n",
       "      <td>[MASK] [POL] theolcvical in,structinn • in the...</td>\n",
       "      <td>liberal</td>\n",
       "      <td>liberal</td>\n",
       "      <td>liberal</td>\n",
       "      <td>liberal</td>\n",
       "      <td>liberal</td>\n",
       "      <td>liberal</td>\n",
       "      <td>liberal</td>\n",
       "      <td>liberal</td>\n",
       "    </tr>\n",
       "  </tbody>\n",
       "</table>\n",
       "<p>1000 rows × 13 columns</p>\n",
       "</div>"
      ],
      "text/plain": [
       "     year      pol                                          sentences     ocr  \\\n",
       "0    1859  neutral  sitenirranv, roy institute as tou ry, v. ireno...  0.6430   \n",
       "1    1850  liberal  atveze,and she had a heavy beam-sea during the...  0.8156   \n",
       "2    1823  liberal  withsuch regulations as we have alluded to. we...  0.9192   \n",
       "3    1848  liberal  atthe several statutes and proceedings of the ...  0.8049   \n",
       "4    1848  liberal  paid, to any address, secure fromobservation, ...  0.8958   \n",
       "..    ...      ...                                                ...     ...   \n",
       "995  1846  liberal  thumb takes the giants down apeg or two—\" from...  0.7595   \n",
       "996  1823  liberal  price of raw fat, per stone of glh.--d\"'6',dpr...  0.6541   \n",
       "997  1847  liberal  of the various disorders arising from the foll...  0.5860   \n",
       "998  1845  liberal  cinctitatt7wirmeon, friday.—the queen promenad...  0.9586   \n",
       "999  1825  liberal  theolcvical in,structinn • in the nationaluniv...  0.8100   \n",
       "\n",
       "                                            masked_POL random_true  \\\n",
       "0    [MASK] [POL] sitenirranv, roy institute as tou...     neutral   \n",
       "1    [MASK] [POL] atveze,and she had a heavy beam-s...     liberal   \n",
       "2    [MASK] [POL] withsuch regulations as we have a...     liberal   \n",
       "3    [MASK] [POL] atthe several statutes and procee...     liberal   \n",
       "4    [MASK] [POL] paid, to any address, secure from...     liberal   \n",
       "..                                                 ...         ...   \n",
       "995  [MASK] [POL] thumb takes the giants down apeg ...     liberal   \n",
       "996  [MASK] [POL] price of raw fat, per stone of gl...     liberal   \n",
       "997  [MASK] [POL] of the various disorders arising ...     liberal   \n",
       "998  [MASK] [POL] cinctitatt7wirmeon, friday.—the q...     liberal   \n",
       "999  [MASK] [POL] theolcvical in,structinn • in the...     liberal   \n",
       "\n",
       "      random_pred majority_true majority_pred   random majority bnert-pol-st  \\\n",
       "0         liberal       neutral       liberal  liberal  liberal      liberal   \n",
       "1            none       liberal       liberal  liberal  liberal      liberal   \n",
       "2         liberal       liberal       liberal  liberal  liberal      liberal   \n",
       "3         liberal       liberal       liberal  neutral  liberal      liberal   \n",
       "4         liberal       liberal       liberal  radical  liberal      liberal   \n",
       "..            ...           ...           ...      ...      ...          ...   \n",
       "995       liberal       liberal       liberal  liberal  liberal      liberal   \n",
       "996  conservative       liberal       liberal  liberal  liberal      liberal   \n",
       "997       liberal       liberal       liberal  liberal  liberal      liberal   \n",
       "998       liberal       liberal       liberal  liberal  liberal      liberal   \n",
       "999       liberal       liberal       liberal  liberal  liberal      liberal   \n",
       "\n",
       "    bnert-pol  \n",
       "0     liberal  \n",
       "1     liberal  \n",
       "2     liberal  \n",
       "3     liberal  \n",
       "4     liberal  \n",
       "..        ...  \n",
       "995   liberal  \n",
       "996   liberal  \n",
       "997   liberal  \n",
       "998   liberal  \n",
       "999   liberal  \n",
       "\n",
       "[1000 rows x 13 columns]"
      ]
     },
     "execution_count": 81,
     "metadata": {},
     "output_type": "execute_result"
    }
   ],
   "source": [
    "results_df"
   ]
  },
  {
   "cell_type": "code",
   "execution_count": 97,
   "id": "38d71292",
   "metadata": {},
   "outputs": [],
   "source": [
    "results_df.to_csv('tables/pol_predict_random.csv')"
   ]
  },
  {
   "cell_type": "code",
   "execution_count": 90,
   "id": "a2563ca7",
   "metadata": {},
   "outputs": [
    {
     "name": "stderr",
     "output_type": "stream",
     "text": [
      "/datadrive_2/lm2/lib/python3.9/site-packages/sklearn/metrics/_classification.py:1334: UndefinedMetricWarning: Precision is ill-defined and being set to 0.0 in labels with no predicted samples. Use `zero_division` parameter to control this behavior.\n",
      "  _warn_prf(average, modifier, msg_start, len(result))\n"
     ]
    }
   ],
   "source": [
    "from sklearn.metrics import classification_report, f1_score, precision_score, recall_score\n",
    "result_table = defaultdict(dict)\n",
    "for m in ['random','majority','bnert-pol-st','bnert-pol']:\n",
    "    for metric in [ f1_score, precision_score, recall_score]:\n",
    "        result_table[m][metric.__name__] = metric(results_df['pol'],results_df[m],average='macro')"
   ]
  },
  {
   "cell_type": "code",
   "execution_count": 98,
   "id": "de6071b0",
   "metadata": {},
   "outputs": [
    {
     "name": "stdout",
     "output_type": "stream",
     "text": [
      "\\begin{tabular}{lrrr}\n",
      "\\toprule\n",
      "{} &  f1\\_score &  precision\\_score &  recall\\_score \\\\\n",
      "\\midrule\n",
      "random       &     0.215 &            0.216 &         0.216 \\\\\n",
      "majority     &     0.171 &            0.150 &         0.200 \\\\\n",
      "bnert-pol-st &     0.461 &            0.655 &         0.397 \\\\\n",
      "bnert-pol    &     0.474 &            0.665 &         0.413 \\\\\n",
      "\\bottomrule\n",
      "\\end{tabular}\n",
      "\n"
     ]
    },
    {
     "name": "stderr",
     "output_type": "stream",
     "text": [
      "/tmp/ipykernel_722851/566518337.py:1: FutureWarning: In future versions `DataFrame.to_latex` is expected to utilise the base implementation of `Styler.to_latex` for formatting and rendering. The arguments signature may therefore change. It is recommended instead to use `DataFrame.style.to_latex` which also contains additional functionality.\n",
      "  print(pd.DataFrame(result_table).T.round(3).to_latex())\n"
     ]
    }
   ],
   "source": [
    "print(pd.DataFrame(result_table).T.round(3).to_latex())"
   ]
  },
  {
   "cell_type": "code",
   "execution_count": 72,
   "id": "24916967",
   "metadata": {},
   "outputs": [],
   "source": [
    "for c in results_df.columns:\n",
    "    if c.startswith('bnert'):\n",
    "        results_df[f'diff-{c}'] = results_df.apply(lambda x: abs(x.year - int(x[c].lstrip('[').rstrip(']'))),\n",
    "                                              axis=1)"
   ]
  },
  {
   "cell_type": "code",
   "execution_count": 73,
   "id": "f4a78ad1",
   "metadata": {},
   "outputs": [],
   "source": [
    "results_df.to_csv('tables/tm_year_predict_no_dates.csv')"
   ]
  },
  {
   "cell_type": "code",
   "execution_count": 74,
   "id": "5bbf5c3d",
   "metadata": {},
   "outputs": [
    {
     "name": "stdout",
     "output_type": "stream",
     "text": [
      "\\begin{tabular}{lr}\n",
      "\\toprule\n",
      "{} &       0 \\\\\n",
      "\\midrule\n",
      "diff\\_random                 &  19.458 \\\\\n",
      "diff\\_majority               &  13.929 \\\\\n",
      "diff-bnert-time-st-y        &   9.744 \\\\\n",
      "diff-bnert-time-y           &   8.625 \\\\\n",
      "diff-bnert-time-y\\_masked\\_25 &   7.756 \\\\\n",
      "diff-bnert-time-y\\_masked\\_75 &   6.317 \\\\\n",
      "\\bottomrule\n",
      "\\end{tabular}\n",
      "\n"
     ]
    },
    {
     "name": "stderr",
     "output_type": "stream",
     "text": [
      "/tmp/ipykernel_598854/959568573.py:1: FutureWarning: In future versions `DataFrame.to_latex` is expected to utilise the base implementation of `Styler.to_latex` for formatting and rendering. The arguments signature may therefore change. It is recommended instead to use `DataFrame.style.to_latex` which also contains additional functionality.\n",
      "  print(results_df[[c for c in results_df.columns if c.startswith('diff')]].mean(axis=0).to_latex())\n"
     ]
    }
   ],
   "source": [
    "print(results_df[[c for c in results_df.columns if c.startswith('diff')]].mean(axis=0).to_latex())"
   ]
  },
  {
   "cell_type": "code",
   "execution_count": 38,
   "id": "e87e2c07",
   "metadata": {},
   "outputs": [
    {
     "name": "stdout",
     "output_type": "stream",
     "text": [
      "\\begin{tabular}{lr}\n",
      "\\toprule\n",
      "{} &       0 \\\\\n",
      "\\midrule\n",
      "diff\\_random                 &  19.602 \\\\\n",
      "diff\\_majority               &  13.096 \\\\\n",
      "diff-bnert-time-st-y        &   9.420 \\\\\n",
      "diff-bnert-time-y           &   8.235 \\\\\n",
      "diff-bnert-time-y\\_masked\\_25 &   7.353 \\\\\n",
      "diff-bnert-time-y\\_masked\\_75 &   6.066 \\\\\n",
      "\\bottomrule\n",
      "\\end{tabular}\n",
      "\n"
     ]
    },
    {
     "name": "stderr",
     "output_type": "stream",
     "text": [
      "/tmp/ipykernel_598854/959568573.py:1: FutureWarning: In future versions `DataFrame.to_latex` is expected to utilise the base implementation of `Styler.to_latex` for formatting and rendering. The arguments signature may therefore change. It is recommended instead to use `DataFrame.style.to_latex` which also contains additional functionality.\n",
      "  print(results_df[[c for c in results_df.columns if c.startswith('diff')]].mean(axis=0).to_latex())\n"
     ]
    }
   ],
   "source": [
    "print(results_df[[c for c in results_df.columns if c.startswith('diff')]].mean(axis=0).to_latex())"
   ]
  },
  {
   "cell_type": "markdown",
   "id": "7240c34d",
   "metadata": {},
   "source": [
    "## Inspect Results\n",
    "    "
   ]
  },
  {
   "cell_type": "code",
   "execution_count": 77,
   "id": "a5705f15",
   "metadata": {},
   "outputs": [],
   "source": [
    "results_df_nodates = pd.read_csv('tables/tm_year_predict_no_dates.csv')\n",
    "results_df_withdates = pd.read_csv('tables/tm_year_predict_standard.csv')"
   ]
  },
  {
   "cell_type": "code",
   "execution_count": 84,
   "id": "83f7b628",
   "metadata": {},
   "outputs": [
    {
     "name": "stdout",
     "output_type": "stream",
     "text": [
      "\\begin{tabular}{lrr}\n",
      "\\toprule\n",
      "{} &       0 &       1 \\\\\n",
      "\\midrule\n",
      "diff\\_random                 &  19.458 &  19.602 \\\\\n",
      "diff\\_majority               &  13.929 &  13.096 \\\\\n",
      "diff-bnert-time-st-y        &   9.744 &   9.420 \\\\\n",
      "diff-bnert-time-y           &   8.625 &   8.235 \\\\\n",
      "diff-bnert-time-y\\_masked\\_25 &   7.756 &   7.353 \\\\\n",
      "diff-bnert-time-y\\_masked\\_75 &   6.317 &   6.066 \\\\\n",
      "\\bottomrule\n",
      "\\end{tabular}\n",
      "\n"
     ]
    },
    {
     "name": "stderr",
     "output_type": "stream",
     "text": [
      "/tmp/ipykernel_598854/3715123333.py:1: FutureWarning: In future versions `DataFrame.to_latex` is expected to utilise the base implementation of `Styler.to_latex` for formatting and rendering. The arguments signature may therefore change. It is recommended instead to use `DataFrame.style.to_latex` which also contains additional functionality.\n",
      "  print(pd.concat([results_df_nodates[[c for c in results_df_nodates.columns if c.startswith('diff')]].mean(axis=0),\n"
     ]
    }
   ],
   "source": [
    "print(pd.concat([results_df_nodates[[c for c in results_df_nodates.columns if c.startswith('diff')]].mean(axis=0),\n",
    "           results_df_withdates[[c for c in results_df_nodates.columns if c.startswith('diff')]].mean(axis=0)],axis=1\n",
    "                 ).round(3).to_latex())"
   ]
  },
  {
   "cell_type": "markdown",
   "id": "561c4871",
   "metadata": {},
   "source": [
    "# Fin."
   ]
  },
  {
   "cell_type": "code",
   "execution_count": 2,
   "id": "6c0fbc9b",
   "metadata": {},
   "outputs": [],
   "source": [
    "import pandas as pd\n",
    "results_df = pd.read_csv('tables/year_pred.csv')"
   ]
  },
  {
   "cell_type": "code",
   "execution_count": 3,
   "id": "56085589",
   "metadata": {},
   "outputs": [],
   "source": [
    "results_df[[c for c in results_df.columns if c.startswith('diff')]].mean(axis=0).to_csv('tables/year_pred.csv')"
   ]
  },
  {
   "cell_type": "code",
   "execution_count": 37,
   "id": "36016fe7",
   "metadata": {},
   "outputs": [
    {
     "data": {
      "text/html": [
       "<div>\n",
       "<style scoped>\n",
       "    .dataframe tbody tr th:only-of-type {\n",
       "        vertical-align: middle;\n",
       "    }\n",
       "\n",
       "    .dataframe tbody tr th {\n",
       "        vertical-align: top;\n",
       "    }\n",
       "\n",
       "    .dataframe thead th {\n",
       "        text-align: right;\n",
       "    }\n",
       "</style>\n",
       "<table border=\"1\" class=\"dataframe\">\n",
       "  <thead>\n",
       "    <tr style=\"text-align: right;\">\n",
       "      <th></th>\n",
       "      <th>year</th>\n",
       "      <th>nlp</th>\n",
       "      <th>sentences</th>\n",
       "      <th>ocr</th>\n",
       "      <th>diff_random</th>\n",
       "      <th>diff_majority</th>\n",
       "      <th>bnert-time-st-y</th>\n",
       "      <th>bnert-time-y</th>\n",
       "      <th>bnert-time-y_masked_25</th>\n",
       "      <th>bnert-time-y_masked_75</th>\n",
       "      <th>diff-bnert-time-st-y</th>\n",
       "      <th>diff-bnert-time-y</th>\n",
       "      <th>diff-bnert-time-y_masked_25</th>\n",
       "      <th>diff-bnert-time-y_masked_75</th>\n",
       "    </tr>\n",
       "  </thead>\n",
       "  <tbody>\n",
       "    <tr>\n",
       "      <th>0</th>\n",
       "      <td>1859</td>\n",
       "      <td>2084</td>\n",
       "      <td>sitenirranv, roy institute as tou ry, v. ireno...</td>\n",
       "      <td>0.6430</td>\n",
       "      <td>22</td>\n",
       "      <td>11</td>\n",
       "      <td>[1859]</td>\n",
       "      <td>1859</td>\n",
       "      <td>1860</td>\n",
       "      <td>1851</td>\n",
       "      <td>0</td>\n",
       "      <td>0</td>\n",
       "      <td>1</td>\n",
       "      <td>8</td>\n",
       "    </tr>\n",
       "    <tr>\n",
       "      <th>1</th>\n",
       "      <td>1850</td>\n",
       "      <td>2194</td>\n",
       "      <td>atveze,and she had a heavy beam-sea during the...</td>\n",
       "      <td>0.8156</td>\n",
       "      <td>8</td>\n",
       "      <td>12</td>\n",
       "      <td>[1853]</td>\n",
       "      <td>1853</td>\n",
       "      <td>1853</td>\n",
       "      <td>1853</td>\n",
       "      <td>3</td>\n",
       "      <td>3</td>\n",
       "      <td>3</td>\n",
       "      <td>3</td>\n",
       "    </tr>\n",
       "    <tr>\n",
       "      <th>2</th>\n",
       "      <td>1823</td>\n",
       "      <td>2194</td>\n",
       "      <td>withsuch regulations as we have alluded to. we...</td>\n",
       "      <td>0.9192</td>\n",
       "      <td>24</td>\n",
       "      <td>11</td>\n",
       "      <td>[1844]</td>\n",
       "      <td>1844</td>\n",
       "      <td>1844</td>\n",
       "      <td>1844</td>\n",
       "      <td>21</td>\n",
       "      <td>21</td>\n",
       "      <td>21</td>\n",
       "      <td>21</td>\n",
       "    </tr>\n",
       "    <tr>\n",
       "      <th>3</th>\n",
       "      <td>1848</td>\n",
       "      <td>2642</td>\n",
       "      <td>atthe several statutes and proceedings of the ...</td>\n",
       "      <td>0.8049</td>\n",
       "      <td>21</td>\n",
       "      <td>5</td>\n",
       "      <td>[1831]</td>\n",
       "      <td>1831</td>\n",
       "      <td>1831</td>\n",
       "      <td>1831</td>\n",
       "      <td>17</td>\n",
       "      <td>17</td>\n",
       "      <td>17</td>\n",
       "      <td>17</td>\n",
       "    </tr>\n",
       "    <tr>\n",
       "      <th>4</th>\n",
       "      <td>1848</td>\n",
       "      <td>2194</td>\n",
       "      <td>paid, to any address, secure fromobservation, ...</td>\n",
       "      <td>0.8958</td>\n",
       "      <td>3</td>\n",
       "      <td>15</td>\n",
       "      <td>[1844]</td>\n",
       "      <td>1844</td>\n",
       "      <td>1846</td>\n",
       "      <td>1848</td>\n",
       "      <td>4</td>\n",
       "      <td>4</td>\n",
       "      <td>2</td>\n",
       "      <td>0</td>\n",
       "    </tr>\n",
       "    <tr>\n",
       "      <th>...</th>\n",
       "      <td>...</td>\n",
       "      <td>...</td>\n",
       "      <td>...</td>\n",
       "      <td>...</td>\n",
       "      <td>...</td>\n",
       "      <td>...</td>\n",
       "      <td>...</td>\n",
       "      <td>...</td>\n",
       "      <td>...</td>\n",
       "      <td>...</td>\n",
       "      <td>...</td>\n",
       "      <td>...</td>\n",
       "      <td>...</td>\n",
       "      <td>...</td>\n",
       "    </tr>\n",
       "    <tr>\n",
       "      <th>995</th>\n",
       "      <td>1846</td>\n",
       "      <td>2194</td>\n",
       "      <td>thumb takes the giants down apeg or two—\" from...</td>\n",
       "      <td>0.7595</td>\n",
       "      <td>0</td>\n",
       "      <td>35</td>\n",
       "      <td>[1856]</td>\n",
       "      <td>1850</td>\n",
       "      <td>1849</td>\n",
       "      <td>1844</td>\n",
       "      <td>10</td>\n",
       "      <td>4</td>\n",
       "      <td>3</td>\n",
       "      <td>2</td>\n",
       "    </tr>\n",
       "    <tr>\n",
       "      <th>996</th>\n",
       "      <td>1823</td>\n",
       "      <td>2194</td>\n",
       "      <td>price of raw fat, per stone of glh.--d\"'6',dpr...</td>\n",
       "      <td>0.6541</td>\n",
       "      <td>31</td>\n",
       "      <td>17</td>\n",
       "      <td>[1846]</td>\n",
       "      <td>1847</td>\n",
       "      <td>1847</td>\n",
       "      <td>1831</td>\n",
       "      <td>23</td>\n",
       "      <td>24</td>\n",
       "      <td>24</td>\n",
       "      <td>8</td>\n",
       "    </tr>\n",
       "    <tr>\n",
       "      <th>997</th>\n",
       "      <td>1847</td>\n",
       "      <td>2194</td>\n",
       "      <td>of the various disorders arising from the foll...</td>\n",
       "      <td>0.5860</td>\n",
       "      <td>7</td>\n",
       "      <td>10</td>\n",
       "      <td>[1845]</td>\n",
       "      <td>1846</td>\n",
       "      <td>1845</td>\n",
       "      <td>1845</td>\n",
       "      <td>2</td>\n",
       "      <td>1</td>\n",
       "      <td>2</td>\n",
       "      <td>2</td>\n",
       "    </tr>\n",
       "    <tr>\n",
       "      <th>998</th>\n",
       "      <td>1845</td>\n",
       "      <td>2194</td>\n",
       "      <td>cinctitatt7wirmeon, friday.—the queen promenad...</td>\n",
       "      <td>0.9586</td>\n",
       "      <td>37</td>\n",
       "      <td>9</td>\n",
       "      <td>[1844]</td>\n",
       "      <td>1844</td>\n",
       "      <td>1844</td>\n",
       "      <td>1844</td>\n",
       "      <td>1</td>\n",
       "      <td>1</td>\n",
       "      <td>1</td>\n",
       "      <td>1</td>\n",
       "    </tr>\n",
       "    <tr>\n",
       "      <th>999</th>\n",
       "      <td>1825</td>\n",
       "      <td>2194</td>\n",
       "      <td>theolcvical in,structinn • in the nationaluniv...</td>\n",
       "      <td>0.8100</td>\n",
       "      <td>21</td>\n",
       "      <td>2</td>\n",
       "      <td>[1846]</td>\n",
       "      <td>1821</td>\n",
       "      <td>1821</td>\n",
       "      <td>1825</td>\n",
       "      <td>21</td>\n",
       "      <td>4</td>\n",
       "      <td>4</td>\n",
       "      <td>0</td>\n",
       "    </tr>\n",
       "  </tbody>\n",
       "</table>\n",
       "<p>1000 rows × 14 columns</p>\n",
       "</div>"
      ],
      "text/plain": [
       "     year   nlp                                          sentences     ocr  \\\n",
       "0    1859  2084  sitenirranv, roy institute as tou ry, v. ireno...  0.6430   \n",
       "1    1850  2194  atveze,and she had a heavy beam-sea during the...  0.8156   \n",
       "2    1823  2194  withsuch regulations as we have alluded to. we...  0.9192   \n",
       "3    1848  2642  atthe several statutes and proceedings of the ...  0.8049   \n",
       "4    1848  2194  paid, to any address, secure fromobservation, ...  0.8958   \n",
       "..    ...   ...                                                ...     ...   \n",
       "995  1846  2194  thumb takes the giants down apeg or two—\" from...  0.7595   \n",
       "996  1823  2194  price of raw fat, per stone of glh.--d\"'6',dpr...  0.6541   \n",
       "997  1847  2194  of the various disorders arising from the foll...  0.5860   \n",
       "998  1845  2194  cinctitatt7wirmeon, friday.—the queen promenad...  0.9586   \n",
       "999  1825  2194  theolcvical in,structinn • in the nationaluniv...  0.8100   \n",
       "\n",
       "     diff_random  diff_majority bnert-time-st-y bnert-time-y  \\\n",
       "0             22             11          [1859]         1859   \n",
       "1              8             12          [1853]         1853   \n",
       "2             24             11          [1844]         1844   \n",
       "3             21              5          [1831]         1831   \n",
       "4              3             15          [1844]         1844   \n",
       "..           ...            ...             ...          ...   \n",
       "995            0             35          [1856]         1850   \n",
       "996           31             17          [1846]         1847   \n",
       "997            7             10          [1845]         1846   \n",
       "998           37              9          [1844]         1844   \n",
       "999           21              2          [1846]         1821   \n",
       "\n",
       "    bnert-time-y_masked_25 bnert-time-y_masked_75  diff-bnert-time-st-y  \\\n",
       "0                     1860                   1851                     0   \n",
       "1                     1853                   1853                     3   \n",
       "2                     1844                   1844                    21   \n",
       "3                     1831                   1831                    17   \n",
       "4                     1846                   1848                     4   \n",
       "..                     ...                    ...                   ...   \n",
       "995                   1849                   1844                    10   \n",
       "996                   1847                   1831                    23   \n",
       "997                   1845                   1845                     2   \n",
       "998                   1844                   1844                     1   \n",
       "999                   1821                   1825                    21   \n",
       "\n",
       "     diff-bnert-time-y  diff-bnert-time-y_masked_25  \\\n",
       "0                    0                            1   \n",
       "1                    3                            3   \n",
       "2                   21                           21   \n",
       "3                   17                           17   \n",
       "4                    4                            2   \n",
       "..                 ...                          ...   \n",
       "995                  4                            3   \n",
       "996                 24                           24   \n",
       "997                  1                            2   \n",
       "998                  1                            1   \n",
       "999                  4                            4   \n",
       "\n",
       "     diff-bnert-time-y_masked_75  \n",
       "0                              8  \n",
       "1                              3  \n",
       "2                             21  \n",
       "3                             17  \n",
       "4                              0  \n",
       "..                           ...  \n",
       "995                            2  \n",
       "996                            8  \n",
       "997                            2  \n",
       "998                            1  \n",
       "999                            0  \n",
       "\n",
       "[1000 rows x 14 columns]"
      ]
     },
     "execution_count": 37,
     "metadata": {},
     "output_type": "execute_result"
    }
   ],
   "source": [
    "results_df"
   ]
  },
  {
   "cell_type": "code",
   "execution_count": null,
   "id": "3c4a34f1",
   "metadata": {},
   "outputs": [],
   "source": [
    "batches = get_sent_batches(test_set)"
   ]
  },
  {
   "cell_type": "code",
   "execution_count": null,
   "id": "a3753a1c",
   "metadata": {},
   "outputs": [],
   "source": [
    "batches = list(batches)"
   ]
  },
  {
   "cell_type": "code",
   "execution_count": null,
   "id": "1f9c5ab8",
   "metadata": {},
   "outputs": [],
   "source": [
    "len(batches[0])"
   ]
  },
  {
   "cell_type": "code",
   "execution_count": null,
   "id": "a2564c3b",
   "metadata": {},
   "outputs": [],
   "source": [
    "batch = batches[0]\n",
    "len(batch)"
   ]
  },
  {
   "cell_type": "code",
   "execution_count": null,
   "id": "0544f85b",
   "metadata": {},
   "outputs": [],
   "source": [
    "batch[0]"
   ]
  },
  {
   "cell_type": "code",
   "execution_count": null,
   "id": "1522daaa",
   "metadata": {},
   "outputs": [],
   "source": [
    "inputs = tokenizer(batch, return_tensors='pt', padding='longest')\n",
    "outputs = model(**inputs)"
   ]
  },
  {
   "cell_type": "code",
   "execution_count": null,
   "id": "344d47ad",
   "metadata": {},
   "outputs": [],
   "source": []
  },
  {
   "cell_type": "code",
   "execution_count": null,
   "id": "dc0f71ed",
   "metadata": {},
   "outputs": [],
   "source": [
    "tokenizer.decode(outputs.logits[:,1,:].argmax(dim=-1))"
   ]
  },
  {
   "cell_type": "code",
   "execution_count": null,
   "id": "41ee9eba",
   "metadata": {},
   "outputs": [],
   "source": [
    "mask_filler('[MASK] [SEP] Her Majesty the Queen.')"
   ]
  },
  {
   "cell_type": "code",
   "execution_count": null,
   "id": "f5e5933c",
   "metadata": {},
   "outputs": [],
   "source": [
    "years = np.array(test_data['train']['year'])\n",
    "mc_year = Counter(years).most_common(1)[0][0]; mc_year"
   ]
  },
  {
   "cell_type": "code",
   "execution_count": null,
   "id": "c2a86ed2",
   "metadata": {},
   "outputs": [],
   "source": []
  },
  {
   "cell_type": "code",
   "execution_count": null,
   "id": "0543fea2",
   "metadata": {},
   "outputs": [],
   "source": []
  },
  {
   "cell_type": "code",
   "execution_count": null,
   "id": "f89d29fe",
   "metadata": {},
   "outputs": [],
   "source": [
    "np.mean(test_set['diff_random'])"
   ]
  },
  {
   "cell_type": "code",
   "execution_count": null,
   "id": "45b3470f",
   "metadata": {},
   "outputs": [],
   "source": [
    "np.mean(test_set['diff_majority'])"
   ]
  },
  {
   "cell_type": "code",
   "execution_count": null,
   "id": "10132587",
   "metadata": {},
   "outputs": [],
   "source": [
    "def diff_first_prediction(example):\n",
    "    #try:\n",
    "        text = '[MASK] [MET] ' + example['sentences']\n",
    "        tokenized = tokenizer(text)\n",
    "        if len(tokenized['input_ids']) > 512:\n",
    "            print(len(text))\n",
    "            print(text)\n",
    "            text = tokenizer.decode(tokenized['input_ids'][:500]) + ' [SEP]'\n",
    "            print(text)\n",
    "            print(len(text))\n",
    "        predictions = mask_filler(text)\n",
    "        target_year = int(example['year'])\n",
    "        print(predictions)\n",
    "        pred_year = predictions[0]['token_str'].rstrip(']').lstrip('[')\n",
    "        print(pred_year)\n",
    "        return {'diff':abs(target_year-int(pred_year))}\n"
   ]
  },
  {
   "cell_type": "code",
   "execution_count": null,
   "id": "e82380df",
   "metadata": {},
   "outputs": [],
   "source": [
    "test_set = test_set.map(diff_first_prediction)"
   ]
  },
  {
   "cell_type": "code",
   "execution_count": null,
   "id": "4a370d8f",
   "metadata": {},
   "outputs": [],
   "source": [
    "data = test_set.remove_columns(['nlp', 'pol', 'sentences',])\n",
    "data = data.to_pandas()\n",
    "data['diff'].mean()"
   ]
  },
  {
   "cell_type": "code",
   "execution_count": null,
   "id": "b0014ad7",
   "metadata": {},
   "outputs": [],
   "source": [
    "data['diff_majority'] = test_set['diff_majority']\n",
    "data['diff_random'] = test_set['diff_random']\n",
    "data[['diff_majority','diff_random','diff']].plot(kind='density')"
   ]
  },
  {
   "cell_type": "code",
   "execution_count": null,
   "id": "9365b0b0",
   "metadata": {},
   "outputs": [],
   "source": [
    "import pandas as pd\n",
    "pd.DataFrame()"
   ]
  },
  {
   "cell_type": "code",
   "execution_count": null,
   "id": "25e6c6fc",
   "metadata": {},
   "outputs": [],
   "source": [
    "sns.scatterplot(x='year',y='diff',data=data)"
   ]
  },
  {
   "cell_type": "code",
   "execution_count": null,
   "id": "99c02051",
   "metadata": {},
   "outputs": [],
   "source": [
    "\n",
    "X = data[['year','ocr']]\n",
    "y = data['diff']\n",
    "reg = LinearRegression().fit(X, y)\n"
   ]
  },
  {
   "cell_type": "code",
   "execution_count": null,
   "id": "a7e7c2e0",
   "metadata": {},
   "outputs": [],
   "source": [
    "reg.score(X, y)"
   ]
  },
  {
   "cell_type": "code",
   "execution_count": null,
   "id": "9bd888c3",
   "metadata": {},
   "outputs": [],
   "source": [
    "\n"
   ]
  },
  {
   "cell_type": "code",
   "execution_count": null,
   "id": "1eff6f3e",
   "metadata": {},
   "outputs": [],
   "source": [
    "import numpy as np\n",
    "np.mean(test_set['diff'])"
   ]
  },
  {
   "cell_type": "code",
   "execution_count": null,
   "id": "33a7d5ea",
   "metadata": {},
   "outputs": [],
   "source": [
    "predictions = mask_filler('[MASK] [SEP] Hello, my Queen.')"
   ]
  },
  {
   "cell_type": "code",
   "execution_count": null,
   "id": "8c93b740",
   "metadata": {},
   "outputs": [],
   "source": [
    "predictions"
   ]
  },
  {
   "cell_type": "markdown",
   "id": "a43f5771",
   "metadata": {},
   "source": [
    "## Masking Pipeline"
   ]
  },
  {
   "cell_type": "code",
   "execution_count": null,
   "id": "76b32169",
   "metadata": {},
   "outputs": [],
   "source": [
    "\"Mr. Gladstone might be observed on the ministerial side of thehouse, making every sort of parliamentary endeavour to catch the Speaker's eye.\"\n",
    "\"Mr. Disraeli, however, preserved so much of his prerogtive as the hitherto recognised leader of her Majesty's Opposition as to obtain without difficulty the right of pre-audience.\"\n",
    "\n",
    "\n",
    "sent = \"The Prime Minister, Mr. [MASK] might be observed on the ministerial side of thehouse, making every sort of parliamentary endeavour to catch the Speaker's eye.\"\n",
    "#sent = \"Mr. Peel might be observed on the ministerial side of thehouse, making every sort of parliamentary endeavour to catch the Speaker's eye. Mr. [MASK], however, preserved so much of his prerogtive as the hitherto recognised leader of her Majesty's Opposition as to obtain without difficulty the right of pre-audience.\"\n",
    "\n"
   ]
  },
  {
   "cell_type": "code",
   "execution_count": null,
   "id": "105d54f4",
   "metadata": {},
   "outputs": [],
   "source": [
    "\n",
    "tokenizer = AutoTokenizer.from_pretrained(\"/datadrive_2/bnert_time\")\n",
    "mask_filler = pipeline(\n",
    "    \"fill-mask\", model=\"/datadrive_2/bnert_time\", top_k=5, tokenizer=tokenizer\n",
    ")\n"
   ]
  },
  {
   "cell_type": "code",
   "execution_count": null,
   "id": "064cc790",
   "metadata": {},
   "outputs": [],
   "source": [
    "text = f\"1830 [SEP] {sent}\"\n",
    "#text = '[MASK] [SEP] His Majesty spoke to the people.'\n",
    "preds = mask_filler(text)\n",
    "\n",
    "for pred in preds:\n",
    "    print(f\">>> {pred['sequence']}\")"
   ]
  },
  {
   "cell_type": "markdown",
   "id": "854bd72e",
   "metadata": {},
   "source": [
    "## Loading Model and Dataset\n",
    "\n",
    "### Dataset"
   ]
  },
  {
   "cell_type": "code",
   "execution_count": null,
   "id": "1bd34e98",
   "metadata": {},
   "outputs": [],
   "source": [
    "cache_dir = '/datadrive_2/hf_cache/'\n",
    "dataset = load_dataset(\"davanstrien/hmd_newspapers\", cache_dir=cache_dir)\n"
   ]
  },
  {
   "cell_type": "code",
   "execution_count": null,
   "id": "0eb37c21",
   "metadata": {},
   "outputs": [],
   "source": [
    "import re\n",
    "pattern = re.compile(r'(\\bprime\\sminister\\b)', re.I)\n",
    "#pattern.findall(\"gladstone  d'isreali\")"
   ]
  },
  {
   "cell_type": "code",
   "execution_count": null,
   "id": "e3666736",
   "metadata": {},
   "outputs": [],
   "source": [
    "prm = dataset.filter(lambda x: len(pattern.findall(x['text'])) > 0 , num_proc=12) "
   ]
  },
  {
   "cell_type": "code",
   "execution_count": null,
   "id": "4761e753",
   "metadata": {},
   "outputs": [],
   "source": [
    "a = prm.filter(lambda x: x['date'].year > 1850)"
   ]
  },
  {
   "cell_type": "code",
   "execution_count": null,
   "id": "b773a41d",
   "metadata": {},
   "outputs": [],
   "source": [
    "pattern1 = re.compile(r'(\\bgladstone|\\bisreali\\b)', re.I)\n",
    "prm1 = a.filter(lambda x: len(pattern1.findall(x['text'])) > 0 , num_proc=12) "
   ]
  },
  {
   "cell_type": "code",
   "execution_count": null,
   "id": "6da7d57d",
   "metadata": {},
   "outputs": [],
   "source": [
    "prm1['train'][4]"
   ]
  },
  {
   "cell_type": "code",
   "execution_count": null,
   "id": "9cb7ea28",
   "metadata": {},
   "outputs": [],
   "source": [
    "preds = [mask_filler('[MASK] [SEP] '+ text[:900]) for text in prm['train']['text'][:100]]"
   ]
  },
  {
   "cell_type": "code",
   "execution_count": null,
   "id": "32973b35",
   "metadata": {},
   "outputs": [],
   "source": [
    "#preds"
   ]
  },
  {
   "cell_type": "code",
   "execution_count": null,
   "id": "6c510572",
   "metadata": {},
   "outputs": [],
   "source": [
    "### Model"
   ]
  },
  {
   "cell_type": "code",
   "execution_count": null,
   "id": "51cd9be5",
   "metadata": {},
   "outputs": [],
   "source": [
    "model_checkpoint = \"bnert\"\n",
    "model = AutoModelForMaskedLM.from_pretrained(model_checkpoint)\n",
    "tokenizer = AutoTokenizer.from_pretrained(model_checkpoint)"
   ]
  },
  {
   "cell_type": "markdown",
   "id": "d0605e0c",
   "metadata": {},
   "source": [
    "## Extracting Vectors"
   ]
  },
  {
   "cell_type": "code",
   "execution_count": null,
   "id": "36a58180",
   "metadata": {},
   "outputs": [],
   "source": []
  }
 ],
 "metadata": {
  "kernelspec": {
   "display_name": "lm2",
   "language": "python",
   "name": "lm2"
  },
  "language_info": {
   "codemirror_mode": {
    "name": "ipython",
    "version": 3
   },
   "file_extension": ".py",
   "mimetype": "text/x-python",
   "name": "python",
   "nbconvert_exporter": "python",
   "pygments_lexer": "ipython3",
   "version": "3.9.12"
  }
 },
 "nbformat": 4,
 "nbformat_minor": 5
}
