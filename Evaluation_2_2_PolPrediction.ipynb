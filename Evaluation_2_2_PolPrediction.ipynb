{
 "cells": [
  {
   "cell_type": "code",
   "execution_count": 9,
   "id": "a7cb5ed6",
   "metadata": {},
   "outputs": [],
   "source": [
    "import torch\n",
    "import seaborn as sns\n",
    "import pandas as pd\n",
    "import transformers\n",
    "from transformers import pipeline, AutoModelForMaskedLM, AutoTokenizer\n",
    "from datasets import load_dataset, load_from_disk\n",
    "from collections import Counter, defaultdict\n",
    "from pathlib import Path\n",
    "import numpy as np\n",
    "import re\n",
    "from tqdm.auto import tqdm\n",
    "from sklearn.linear_model import LinearRegression\n",
    "sns.set()"
   ]
  },
  {
   "cell_type": "markdown",
   "id": "76e69c5b",
   "metadata": {},
   "source": [
    "## Pol Prediction"
   ]
  },
  {
   "cell_type": "code",
   "execution_count": 4,
   "id": "a4ec9a97",
   "metadata": {},
   "outputs": [],
   "source": [
    "test_data = load_from_disk('/datadrive_2/HMD_chunked_100_test')"
   ]
  },
  {
   "cell_type": "code",
   "execution_count": 5,
   "id": "1a6efbd4",
   "metadata": {},
   "outputs": [
    {
     "data": {
      "text/plain": [
       "Dataset({\n",
       "    features: ['year', 'nlp', 'pol', 'loc', 'sentences', 'ocr'],\n",
       "    num_rows: 11315511\n",
       "})"
      ]
     },
     "execution_count": 5,
     "metadata": {},
     "output_type": "execute_result"
    }
   ],
   "source": [
    "test_data"
   ]
  },
  {
   "cell_type": "code",
   "execution_count": 6,
   "id": "89d71091",
   "metadata": {},
   "outputs": [
    {
     "name": "stderr",
     "output_type": "stream",
     "text": [
      "Loading cached processed dataset at /datadrive_2/HMD_chunked_100_test/cache-5f63fae813d1e558.arrow\n"
     ]
    }
   ],
   "source": [
    "test_data = test_data.map(lambda examples: {'sentences': [x.lower() for x in examples['sentences']]}, batched=True)"
   ]
  },
  {
   "cell_type": "code",
   "execution_count": 117,
   "id": "8770b7a5",
   "metadata": {},
   "outputs": [
    {
     "name": "stdout",
     "output_type": "stream",
     "text": [
      "       "
     ]
    },
    {
     "name": "stderr",
     "output_type": "stream",
     "text": [
      "Loading cached processed dataset at /datadrive_2/HMD_chunked_100_test/cache-53ac24fc25cbbd5b.arrow\n"
     ]
    },
    {
     "name": "stdout",
     "output_type": "stream",
     "text": [
      " "
     ]
    },
    {
     "name": "stderr",
     "output_type": "stream",
     "text": [
      "Loading cached processed dataset at /datadrive_2/HMD_chunked_100_test/cache-104022a30e4270c4.arrow\n"
     ]
    },
    {
     "name": "stdout",
     "output_type": "stream",
     "text": [
      "  "
     ]
    },
    {
     "name": "stderr",
     "output_type": "stream",
     "text": [
      "Loading cached processed dataset at /datadrive_2/HMD_chunked_100_test/cache-ba4b05635d7ee3eb.arrow\n",
      "Loading cached processed dataset at /datadrive_2/HMD_chunked_100_test/cache-621153ec30285ff3.arrow\n"
     ]
    },
    {
     "name": "stdout",
     "output_type": "stream",
     "text": [
      "  "
     ]
    },
    {
     "name": "stderr",
     "output_type": "stream",
     "text": [
      "Loading cached processed dataset at /datadrive_2/HMD_chunked_100_test/cache-a7ecd51e15792e88.arrow\n",
      "Loading cached processed dataset at /datadrive_2/HMD_chunked_100_test/cache-918abd0192f9cad2.arrow\n",
      "Loading cached processed dataset at /datadrive_2/HMD_chunked_100_test/cache-66b22b24541acf77.arrow\n",
      "Loading cached shuffled indices for dataset at /datadrive_2/HMD_chunked_100_test/cache-3e31e92652ddae9c.arrow\n"
     ]
    }
   ],
   "source": [
    "random_select = False\n",
    "\n",
    "if random_select:\n",
    "    test_set = test_data.shuffle(seed=42).select(range(1000))\n",
    "else:\n",
    "    pol_pattern = re.compile(r'\\bliberal|\\bconservat|\\btory\\b|\\btories\\b',re.I)\n",
    "    test_set = test_data.map(lambda x: {'sentences': x['sentences'].lower()}, num_proc=6\n",
    "                               ).filter(lambda x: len(pol_pattern.findall(x['sentences'])) > 0\n",
    "                                   ).shuffle(seed=42).select(range(1000))\n",
    "    "
   ]
  },
  {
   "cell_type": "code",
   "execution_count": 118,
   "id": "bfb261c6",
   "metadata": {},
   "outputs": [],
   "source": [
    "# masked_year = False\n",
    "# if masked_year:\n",
    "#     import re\n",
    "#     pattern = re.compile(r'\\b1[789][0-9]{2}\\b')\n",
    "#     test_set = test_set.map(lambda x: {'sentences': pattern.sub('[MASK]',x['sentences'])})"
   ]
  },
  {
   "cell_type": "code",
   "execution_count": 119,
   "id": "f249a154",
   "metadata": {},
   "outputs": [],
   "source": [
    "#test_set['sentences']"
   ]
  },
  {
   "cell_type": "code",
   "execution_count": 120,
   "id": "aca0b775",
   "metadata": {},
   "outputs": [
    {
     "data": {
      "application/vnd.jupyter.widget-view+json": {
       "model_id": "bab86d3d7fad46a3bc6147965f13a86c",
       "version_major": 2,
       "version_minor": 0
      },
      "text/plain": [
       "  0%|          | 0/1000 [00:00<?, ?ex/s]"
      ]
     },
     "metadata": {},
     "output_type": "display_data"
    },
    {
     "data": {
      "application/vnd.jupyter.widget-view+json": {
       "model_id": "5fbab06293cb408891e008cee47d97b1",
       "version_major": 2,
       "version_minor": 0
      },
      "text/plain": [
       "  0%|          | 0/1000 [00:00<?, ?ex/s]"
      ]
     },
     "metadata": {},
     "output_type": "display_data"
    }
   ],
   "source": [
    "def mask_time_token(example,special_token='SEP'):\n",
    "    return {f'masked_{special_token}': f'[MASK] [{special_token}] '+ example['sentences']}\n",
    "\n",
    "def mask_combined(example, special_token='COMB'):\n",
    "    #return {f'masked_COMB': f'[MASK] [DATE] [MASK] [POL] [MASK] [LOC] '+ example['sentences']}\n",
    "    return {f'masked_COMB': f'[MASK] [DATE] [MASK] [POL] [MASK] [LOC] '+ example['sentences']}\n",
    "test_set = test_set.map(mask_time_token, fn_kwargs={'special_token':'POL'})\n",
    "test_set = test_set.map(mask_combined)"
   ]
  },
  {
   "cell_type": "code",
   "execution_count": 121,
   "id": "64a0d4a3",
   "metadata": {},
   "outputs": [],
   "source": [
    "checkpoints = [('bnert-pol-st','/datadrive_2/bnert-pol-st','POL',1),\n",
    "               ('bnert-pol','/datadrive_2/bnert-pol','POL',1),\n",
    "               ('bnert-comb','/datadrive_2/bnert-combined','COMB',3)\n",
    "               ]\n",
    "\n",
    "model_dict = defaultdict(dict)\n",
    "for name,checkpoint, st,mp in checkpoints:\n",
    "    model_dict[name]['model'] = AutoModelForMaskedLM.from_pretrained(checkpoint)\n",
    "    model_dict[name]['tokenizer'] = AutoTokenizer.from_pretrained(checkpoint)\n",
    "    model_dict[name]['special_token'] = st\n",
    "    model_dict[name]['mask_position'] = mp"
   ]
  },
  {
   "cell_type": "code",
   "execution_count": 122,
   "id": "8408605a",
   "metadata": {},
   "outputs": [
    {
     "data": {
      "text/plain": [
       "{'year': 1867,\n",
       " 'nlp': 2642,\n",
       " 'pol': '[lib]',\n",
       " 'loc': '[london]',\n",
       " 'sentences': 'by a small majority. since that timehe enjoyed the honour of the representation undisturbed.previous to last general election it was understood that hewas anxious to withdraw into private life, and that colonelclark kennedy. c. 8., whose unlooked-for death in egyptwas announced last week, contemplated standing in hisstead ; but at the desire of some of his constituency heagain offered himself, and was again returned. mr.mackie, though an adherent of the liberal party, wassomewhat conservative in his views, and gave considerabledissatisfaction even to many of his friends by the way inwhich he acted during the divisions on the reform bill ofthe',\n",
       " 'ocr': 0.8552,\n",
       " 'masked_POL': '[MASK] [POL] by a small majority. since that timehe enjoyed the honour of the representation undisturbed.previous to last general election it was understood that hewas anxious to withdraw into private life, and that colonelclark kennedy. c. 8., whose unlooked-for death in egyptwas announced last week, contemplated standing in hisstead ; but at the desire of some of his constituency heagain offered himself, and was again returned. mr.mackie, though an adherent of the liberal party, wassomewhat conservative in his views, and gave considerabledissatisfaction even to many of his friends by the way inwhich he acted during the divisions on the reform bill ofthe',\n",
       " 'masked_COMB': '[MASK] [DATE] [MASK] [POL] [MASK] [LOC] by a small majority. since that timehe enjoyed the honour of the representation undisturbed.previous to last general election it was understood that hewas anxious to withdraw into private life, and that colonelclark kennedy. c. 8., whose unlooked-for death in egyptwas announced last week, contemplated standing in hisstead ; but at the desire of some of his constituency heagain offered himself, and was again returned. mr.mackie, though an adherent of the liberal party, wassomewhat conservative in his views, and gave considerabledissatisfaction even to many of his friends by the way inwhich he acted during the divisions on the reform bill ofthe'}"
      ]
     },
     "execution_count": 122,
     "metadata": {},
     "output_type": "execute_result"
    }
   ],
   "source": [
    "test_set[10]"
   ]
  },
  {
   "cell_type": "code",
   "execution_count": 123,
   "id": "bd19b67e",
   "metadata": {},
   "outputs": [],
   "source": [
    "\n",
    "\n",
    "def get_masked_batches(data,st,batch_size=128):\n",
    "    return (data[i:i+batch_size][f'masked_{st}'] for i in range(0,len(data), batch_size))\n",
    "\n",
    "def get_year_prediction(data,model,tokenizer,st,mask_position):\n",
    "    predictions = []\n",
    "    batches = get_masked_batches(data,st)\n",
    "    for batch in tqdm(batches):\n",
    "        inputs = tokenizer(batch, return_tensors='pt', padding='max_length', max_length=256, truncation=True,)\n",
    "        outputs = model(**inputs)\n",
    "        #torch.cuda.empty_cache()\n",
    "        predictions.extend([tokenizer.decode(i.item()) for i in outputs.logits[:,mask_position,:].argmax(dim=-1)])\n",
    "    return predictions"
   ]
  },
  {
   "cell_type": "code",
   "execution_count": 124,
   "id": "40cebaf1",
   "metadata": {},
   "outputs": [
    {
     "data": {
      "application/vnd.jupyter.widget-view+json": {
       "model_id": "eb8d817ef6464bdca50a67f7e61a4726",
       "version_major": 2,
       "version_minor": 0
      },
      "text/plain": [
       "0it [00:00, ?it/s]"
      ]
     },
     "metadata": {},
     "output_type": "display_data"
    },
    {
     "data": {
      "application/vnd.jupyter.widget-view+json": {
       "model_id": "4592f0b52c5742d39396cfea0d37a975",
       "version_major": 2,
       "version_minor": 0
      },
      "text/plain": [
       "0it [00:00, ?it/s]"
      ]
     },
     "metadata": {},
     "output_type": "display_data"
    },
    {
     "data": {
      "application/vnd.jupyter.widget-view+json": {
       "model_id": "ab456a3f034c4bc9afdd38194506c401",
       "version_major": 2,
       "version_minor": 0
      },
      "text/plain": [
       "0it [00:00, ?it/s]"
      ]
     },
     "metadata": {},
     "output_type": "display_data"
    }
   ],
   "source": [
    "#torch.cuda.empty_cache()\n",
    "result_dict = {}\n",
    "for name, mdict in model_dict.items():\n",
    "    result_dict[name] = get_year_prediction(test_set, \n",
    "                                          model_dict[name]['model'],\n",
    "                                          model_dict[name]['tokenizer'],\n",
    "                                          model_dict[name]['special_token'],\n",
    "                                         model_dict[name]['mask_position'])"
   ]
  },
  {
   "cell_type": "code",
   "execution_count": 125,
   "id": "f9298e16",
   "metadata": {},
   "outputs": [
    {
     "data": {
      "text/plain": [
       "'[lib]'"
      ]
     },
     "execution_count": 125,
     "metadata": {},
     "output_type": "execute_result"
    }
   ],
   "source": [
    "pols = np.array(test_data['pol'])\n",
    "mc_pols = Counter(pols).most_common(1)[0][0]; mc_pols"
   ]
  },
  {
   "cell_type": "code",
   "execution_count": 126,
   "id": "17fccd15",
   "metadata": {},
   "outputs": [],
   "source": [
    "#st = lambda x: x.lstrip('[').rstrip(']')"
   ]
  },
  {
   "cell_type": "code",
   "execution_count": null,
   "id": "e1376e65",
   "metadata": {},
   "outputs": [],
   "source": []
  },
  {
   "cell_type": "code",
   "execution_count": 127,
   "id": "73985532",
   "metadata": {},
   "outputs": [],
   "source": [
    "lab2string = {'[lib]':'liberal',\n",
    "              '[con]':'conservative',\n",
    "              '[neutr]':'neutral',\n",
    "              '[none]':'none',\n",
    "              '[rad]':'radical'\n",
    "             }\n",
    "\n",
    "def random_baseline(example):\n",
    "    predicted = lab2string[np.random.choice(pols, size=1)[0]]\n",
    "    return {\n",
    "           'random':predicted}\n",
    "\n",
    "\n",
    "def majority_baseline(example):\n",
    "    \n",
    "    y_true = lab2string[example['pol']]\n",
    "    return {'majority':lab2string[mc_pols]}"
   ]
  },
  {
   "cell_type": "code",
   "execution_count": null,
   "id": "ccfe1f49",
   "metadata": {},
   "outputs": [],
   "source": []
  },
  {
   "cell_type": "code",
   "execution_count": 128,
   "id": "48c444db",
   "metadata": {},
   "outputs": [
    {
     "data": {
      "application/vnd.jupyter.widget-view+json": {
       "model_id": "31746af4f18347459c7950fd91f963fd",
       "version_major": 2,
       "version_minor": 0
      },
      "text/plain": [
       "  0%|          | 0/1000 [00:00<?, ?ex/s]"
      ]
     },
     "metadata": {},
     "output_type": "display_data"
    },
    {
     "data": {
      "application/vnd.jupyter.widget-view+json": {
       "model_id": "660c444e746c4f739a80e2135226292d",
       "version_major": 2,
       "version_minor": 0
      },
      "text/plain": [
       "  0%|          | 0/1000 [00:00<?, ?ex/s]"
      ]
     },
     "metadata": {},
     "output_type": "display_data"
    }
   ],
   "source": [
    "test_set = test_set.map(random_baseline)\n",
    "test_set = test_set.map(majority_baseline)"
   ]
  },
  {
   "cell_type": "code",
   "execution_count": 129,
   "id": "acd712d1",
   "metadata": {},
   "outputs": [
    {
     "data": {
      "text/plain": [
       "{'year': 1839,\n",
       " 'nlp': 2194,\n",
       " 'pol': '[lib]',\n",
       " 'loc': '[london]',\n",
       " 'sentences': \"such mea-sures, that triumphant majority which must carry themthrough every species of tory tribulatinn..—(cheer.s.)these are the views that i advocate—this theorpoislie.iytthat i would pursue. is it a dangerous.poliey,not recommended. by its moderation, by its good sense.?and if so, are we to support that government whichopposed to its recomnition or do you sanction hostility.to a government 'which 'will not adopt those.views,even though it may lead to a catastrophe of which theeffects are speculative ? i consider the prospect beforeus is bright, and that we have only to pursue a steadycourse of well doing, and that:your representatives oughtto enforce such sentiments as\",\n",
       " 'ocr': 0.9769,\n",
       " 'masked_POL': \"[MASK] [POL] such mea-sures, that triumphant majority which must carry themthrough every species of tory tribulatinn..—(cheer.s.)these are the views that i advocate—this theorpoislie.iytthat i would pursue. is it a dangerous.poliey,not recommended. by its moderation, by its good sense.?and if so, are we to support that government whichopposed to its recomnition or do you sanction hostility.to a government 'which 'will not adopt those.views,even though it may lead to a catastrophe of which theeffects are speculative ? i consider the prospect beforeus is bright, and that we have only to pursue a steadycourse of well doing, and that:your representatives oughtto enforce such sentiments as\",\n",
       " 'masked_COMB': \"[MASK] [DATE] [MASK] [POL] [MASK] [LOC] such mea-sures, that triumphant majority which must carry themthrough every species of tory tribulatinn..—(cheer.s.)these are the views that i advocate—this theorpoislie.iytthat i would pursue. is it a dangerous.poliey,not recommended. by its moderation, by its good sense.?and if so, are we to support that government whichopposed to its recomnition or do you sanction hostility.to a government 'which 'will not adopt those.views,even though it may lead to a catastrophe of which theeffects are speculative ? i consider the prospect beforeus is bright, and that we have only to pursue a steadycourse of well doing, and that:your representatives oughtto enforce such sentiments as\",\n",
       " 'random': 'liberal',\n",
       " 'majority': 'liberal'}"
      ]
     },
     "execution_count": 129,
     "metadata": {},
     "output_type": "execute_result"
    }
   ],
   "source": [
    "test_set[0]"
   ]
  },
  {
   "cell_type": "code",
   "execution_count": 130,
   "id": "e15f56a7",
   "metadata": {},
   "outputs": [],
   "source": [
    "results = test_set.remove_columns(['nlp', 'loc'])"
   ]
  },
  {
   "cell_type": "code",
   "execution_count": 131,
   "id": "8d5faeac",
   "metadata": {},
   "outputs": [],
   "source": [
    "results_df = results.to_pandas()"
   ]
  },
  {
   "cell_type": "code",
   "execution_count": 132,
   "id": "f730ba14",
   "metadata": {},
   "outputs": [],
   "source": [
    "for ch,res in result_dict.items():\n",
    "    results_df[ch] = res"
   ]
  },
  {
   "cell_type": "code",
   "execution_count": 133,
   "id": "554f0962",
   "metadata": {},
   "outputs": [
    {
     "data": {
      "text/html": [
       "<div>\n",
       "<style scoped>\n",
       "    .dataframe tbody tr th:only-of-type {\n",
       "        vertical-align: middle;\n",
       "    }\n",
       "\n",
       "    .dataframe tbody tr th {\n",
       "        vertical-align: top;\n",
       "    }\n",
       "\n",
       "    .dataframe thead th {\n",
       "        text-align: right;\n",
       "    }\n",
       "</style>\n",
       "<table border=\"1\" class=\"dataframe\">\n",
       "  <thead>\n",
       "    <tr style=\"text-align: right;\">\n",
       "      <th></th>\n",
       "      <th>year</th>\n",
       "      <th>pol</th>\n",
       "      <th>sentences</th>\n",
       "      <th>ocr</th>\n",
       "      <th>masked_POL</th>\n",
       "      <th>masked_COMB</th>\n",
       "      <th>random</th>\n",
       "      <th>majority</th>\n",
       "      <th>bnert-pol-st</th>\n",
       "      <th>bnert-pol</th>\n",
       "      <th>bnert-comb</th>\n",
       "    </tr>\n",
       "  </thead>\n",
       "  <tbody>\n",
       "    <tr>\n",
       "      <th>0</th>\n",
       "      <td>1839</td>\n",
       "      <td>[lib]</td>\n",
       "      <td>such mea-sures, that triumphant majority which...</td>\n",
       "      <td>0.9769</td>\n",
       "      <td>[MASK] [POL] such mea-sures, that triumphant m...</td>\n",
       "      <td>[MASK] [DATE] [MASK] [POL] [MASK] [LOC] such m...</td>\n",
       "      <td>liberal</td>\n",
       "      <td>liberal</td>\n",
       "      <td>[lib]</td>\n",
       "      <td>liberal</td>\n",
       "      <td>liberal</td>\n",
       "    </tr>\n",
       "    <tr>\n",
       "      <th>1</th>\n",
       "      <td>1810</td>\n",
       "      <td>[none]</td>\n",
       "      <td>m4t u 'ation'phis day was published. in two ha...</td>\n",
       "      <td>0.7388</td>\n",
       "      <td>[MASK] [POL] m4t u 'ation'phis day was publish...</td>\n",
       "      <td>[MASK] [DATE] [MASK] [POL] [MASK] [LOC] m4t u ...</td>\n",
       "      <td>liberal</td>\n",
       "      <td>liberal</td>\n",
       "      <td>[none]</td>\n",
       "      <td>none</td>\n",
       "      <td>none</td>\n",
       "    </tr>\n",
       "    <tr>\n",
       "      <th>2</th>\n",
       "      <td>1842</td>\n",
       "      <td>[con]</td>\n",
       "      <td>8s and 15s 6doriginal testimonials, gratis, wi...</td>\n",
       "      <td>0.9446</td>\n",
       "      <td>[MASK] [POL] 8s and 15s 6doriginal testimonial...</td>\n",
       "      <td>[MASK] [DATE] [MASK] [POL] [MASK] [LOC] 8s and...</td>\n",
       "      <td>liberal</td>\n",
       "      <td>liberal</td>\n",
       "      <td>[lib]</td>\n",
       "      <td>liberal</td>\n",
       "      <td>liberal</td>\n",
       "    </tr>\n",
       "    <tr>\n",
       "      <th>3</th>\n",
       "      <td>1841</td>\n",
       "      <td>[lib]</td>\n",
       "      <td>american corn.—(loud cries of \"hear, hear,\" an...</td>\n",
       "      <td>0.9324</td>\n",
       "      <td>[MASK] [POL] american corn.—(loud cries of \"he...</td>\n",
       "      <td>[MASK] [DATE] [MASK] [POL] [MASK] [LOC] americ...</td>\n",
       "      <td>liberal</td>\n",
       "      <td>liberal</td>\n",
       "      <td>[lib]</td>\n",
       "      <td>liberal</td>\n",
       "      <td>liberal</td>\n",
       "    </tr>\n",
       "    <tr>\n",
       "      <th>4</th>\n",
       "      <td>1844</td>\n",
       "      <td>[lib]</td>\n",
       "      <td>all offices, except in cases otherwise pro-d i...</td>\n",
       "      <td>0.7492</td>\n",
       "      <td>[MASK] [POL] all offices, except in cases othe...</td>\n",
       "      <td>[MASK] [DATE] [MASK] [POL] [MASK] [LOC] all of...</td>\n",
       "      <td>liberal</td>\n",
       "      <td>liberal</td>\n",
       "      <td>[lib]</td>\n",
       "      <td>liberal</td>\n",
       "      <td>liberal</td>\n",
       "    </tr>\n",
       "    <tr>\n",
       "      <th>...</th>\n",
       "      <td>...</td>\n",
       "      <td>...</td>\n",
       "      <td>...</td>\n",
       "      <td>...</td>\n",
       "      <td>...</td>\n",
       "      <td>...</td>\n",
       "      <td>...</td>\n",
       "      <td>...</td>\n",
       "      <td>...</td>\n",
       "      <td>...</td>\n",
       "      <td>...</td>\n",
       "    </tr>\n",
       "    <tr>\n",
       "      <th>995</th>\n",
       "      <td>1860</td>\n",
       "      <td>[lib]</td>\n",
       "      <td>the personal interview about to takeplace betw...</td>\n",
       "      <td>0.9564</td>\n",
       "      <td>[MASK] [POL] the personal interview about to t...</td>\n",
       "      <td>[MASK] [DATE] [MASK] [POL] [MASK] [LOC] the pe...</td>\n",
       "      <td>liberal</td>\n",
       "      <td>liberal</td>\n",
       "      <td>[lib]</td>\n",
       "      <td>liberal</td>\n",
       "      <td>liberal</td>\n",
       "    </tr>\n",
       "    <tr>\n",
       "      <th>996</th>\n",
       "      <td>1837</td>\n",
       "      <td>[lib]</td>\n",
       "      <td>he could bring himself to,,,siderations. in mu...</td>\n",
       "      <td>0.8137</td>\n",
       "      <td>[MASK] [POL] he could bring himself to,,,sider...</td>\n",
       "      <td>[MASK] [DATE] [MASK] [POL] [MASK] [LOC] he cou...</td>\n",
       "      <td>liberal</td>\n",
       "      <td>liberal</td>\n",
       "      <td>[lib]</td>\n",
       "      <td>liberal</td>\n",
       "      <td>liberal</td>\n",
       "    </tr>\n",
       "    <tr>\n",
       "      <th>997</th>\n",
       "      <td>1852</td>\n",
       "      <td>[lib]</td>\n",
       "      <td>- . .for h idwith theg qualities., s n sal _po...</td>\n",
       "      <td>0.6146</td>\n",
       "      <td>[MASK] [POL] - . .for h idwith theg qualities....</td>\n",
       "      <td>[MASK] [DATE] [MASK] [POL] [MASK] [LOC] - . .f...</td>\n",
       "      <td>liberal</td>\n",
       "      <td>liberal</td>\n",
       "      <td>[lib]</td>\n",
       "      <td>liberal</td>\n",
       "      <td>liberal</td>\n",
       "    </tr>\n",
       "    <tr>\n",
       "      <th>998</th>\n",
       "      <td>1839</td>\n",
       "      <td>[lib]</td>\n",
       "      <td>challengedby the counsel for the prosecution),...</td>\n",
       "      <td>0.8009</td>\n",
       "      <td>[MASK] [POL] challengedby the counsel for the ...</td>\n",
       "      <td>[MASK] [DATE] [MASK] [POL] [MASK] [LOC] challe...</td>\n",
       "      <td>liberal</td>\n",
       "      <td>liberal</td>\n",
       "      <td>[lib]</td>\n",
       "      <td>liberal</td>\n",
       "      <td>liberal</td>\n",
       "    </tr>\n",
       "    <tr>\n",
       "      <th>999</th>\n",
       "      <td>1812</td>\n",
       "      <td>[none]</td>\n",
       "      <td>and intoned wig.% fs wt-tred,hot-houses, conse...</td>\n",
       "      <td>0.7088</td>\n",
       "      <td>[MASK] [POL] and intoned wig.% fs wt-tred,hot-...</td>\n",
       "      <td>[MASK] [DATE] [MASK] [POL] [MASK] [LOC] and in...</td>\n",
       "      <td>liberal</td>\n",
       "      <td>liberal</td>\n",
       "      <td>[none]</td>\n",
       "      <td>none</td>\n",
       "      <td>none</td>\n",
       "    </tr>\n",
       "  </tbody>\n",
       "</table>\n",
       "<p>1000 rows × 11 columns</p>\n",
       "</div>"
      ],
      "text/plain": [
       "     year     pol                                          sentences     ocr  \\\n",
       "0    1839   [lib]  such mea-sures, that triumphant majority which...  0.9769   \n",
       "1    1810  [none]  m4t u 'ation'phis day was published. in two ha...  0.7388   \n",
       "2    1842   [con]  8s and 15s 6doriginal testimonials, gratis, wi...  0.9446   \n",
       "3    1841   [lib]  american corn.—(loud cries of \"hear, hear,\" an...  0.9324   \n",
       "4    1844   [lib]  all offices, except in cases otherwise pro-d i...  0.7492   \n",
       "..    ...     ...                                                ...     ...   \n",
       "995  1860   [lib]  the personal interview about to takeplace betw...  0.9564   \n",
       "996  1837   [lib]  he could bring himself to,,,siderations. in mu...  0.8137   \n",
       "997  1852   [lib]  - . .for h idwith theg qualities., s n sal _po...  0.6146   \n",
       "998  1839   [lib]  challengedby the counsel for the prosecution),...  0.8009   \n",
       "999  1812  [none]  and intoned wig.% fs wt-tred,hot-houses, conse...  0.7088   \n",
       "\n",
       "                                            masked_POL  \\\n",
       "0    [MASK] [POL] such mea-sures, that triumphant m...   \n",
       "1    [MASK] [POL] m4t u 'ation'phis day was publish...   \n",
       "2    [MASK] [POL] 8s and 15s 6doriginal testimonial...   \n",
       "3    [MASK] [POL] american corn.—(loud cries of \"he...   \n",
       "4    [MASK] [POL] all offices, except in cases othe...   \n",
       "..                                                 ...   \n",
       "995  [MASK] [POL] the personal interview about to t...   \n",
       "996  [MASK] [POL] he could bring himself to,,,sider...   \n",
       "997  [MASK] [POL] - . .for h idwith theg qualities....   \n",
       "998  [MASK] [POL] challengedby the counsel for the ...   \n",
       "999  [MASK] [POL] and intoned wig.% fs wt-tred,hot-...   \n",
       "\n",
       "                                           masked_COMB   random majority  \\\n",
       "0    [MASK] [DATE] [MASK] [POL] [MASK] [LOC] such m...  liberal  liberal   \n",
       "1    [MASK] [DATE] [MASK] [POL] [MASK] [LOC] m4t u ...  liberal  liberal   \n",
       "2    [MASK] [DATE] [MASK] [POL] [MASK] [LOC] 8s and...  liberal  liberal   \n",
       "3    [MASK] [DATE] [MASK] [POL] [MASK] [LOC] americ...  liberal  liberal   \n",
       "4    [MASK] [DATE] [MASK] [POL] [MASK] [LOC] all of...  liberal  liberal   \n",
       "..                                                 ...      ...      ...   \n",
       "995  [MASK] [DATE] [MASK] [POL] [MASK] [LOC] the pe...  liberal  liberal   \n",
       "996  [MASK] [DATE] [MASK] [POL] [MASK] [LOC] he cou...  liberal  liberal   \n",
       "997  [MASK] [DATE] [MASK] [POL] [MASK] [LOC] - . .f...  liberal  liberal   \n",
       "998  [MASK] [DATE] [MASK] [POL] [MASK] [LOC] challe...  liberal  liberal   \n",
       "999  [MASK] [DATE] [MASK] [POL] [MASK] [LOC] and in...  liberal  liberal   \n",
       "\n",
       "    bnert-pol-st bnert-pol bnert-comb  \n",
       "0          [lib]   liberal    liberal  \n",
       "1         [none]      none       none  \n",
       "2          [lib]   liberal    liberal  \n",
       "3          [lib]   liberal    liberal  \n",
       "4          [lib]   liberal    liberal  \n",
       "..           ...       ...        ...  \n",
       "995        [lib]   liberal    liberal  \n",
       "996        [lib]   liberal    liberal  \n",
       "997        [lib]   liberal    liberal  \n",
       "998        [lib]   liberal    liberal  \n",
       "999       [none]      none       none  \n",
       "\n",
       "[1000 rows x 11 columns]"
      ]
     },
     "execution_count": 133,
     "metadata": {},
     "output_type": "execute_result"
    }
   ],
   "source": [
    "results_df"
   ]
  },
  {
   "cell_type": "code",
   "execution_count": 134,
   "id": "7be2ab18",
   "metadata": {},
   "outputs": [],
   "source": [
    "results_df.replace({\"bnert-pol-st\": lab2string},inplace=True)\n",
    "results_df.replace({\"pol\": lab2string},inplace=True)"
   ]
  },
  {
   "cell_type": "code",
   "execution_count": 135,
   "id": "ac8cee9d",
   "metadata": {},
   "outputs": [
    {
     "data": {
      "text/html": [
       "<div>\n",
       "<style scoped>\n",
       "    .dataframe tbody tr th:only-of-type {\n",
       "        vertical-align: middle;\n",
       "    }\n",
       "\n",
       "    .dataframe tbody tr th {\n",
       "        vertical-align: top;\n",
       "    }\n",
       "\n",
       "    .dataframe thead th {\n",
       "        text-align: right;\n",
       "    }\n",
       "</style>\n",
       "<table border=\"1\" class=\"dataframe\">\n",
       "  <thead>\n",
       "    <tr style=\"text-align: right;\">\n",
       "      <th></th>\n",
       "      <th>year</th>\n",
       "      <th>pol</th>\n",
       "      <th>sentences</th>\n",
       "      <th>ocr</th>\n",
       "      <th>masked_POL</th>\n",
       "      <th>masked_COMB</th>\n",
       "      <th>random</th>\n",
       "      <th>majority</th>\n",
       "      <th>bnert-pol-st</th>\n",
       "      <th>bnert-pol</th>\n",
       "      <th>bnert-comb</th>\n",
       "    </tr>\n",
       "  </thead>\n",
       "  <tbody>\n",
       "    <tr>\n",
       "      <th>0</th>\n",
       "      <td>1839</td>\n",
       "      <td>liberal</td>\n",
       "      <td>such mea-sures, that triumphant majority which...</td>\n",
       "      <td>0.9769</td>\n",
       "      <td>[MASK] [POL] such mea-sures, that triumphant m...</td>\n",
       "      <td>[MASK] [DATE] [MASK] [POL] [MASK] [LOC] such m...</td>\n",
       "      <td>liberal</td>\n",
       "      <td>liberal</td>\n",
       "      <td>liberal</td>\n",
       "      <td>liberal</td>\n",
       "      <td>liberal</td>\n",
       "    </tr>\n",
       "    <tr>\n",
       "      <th>1</th>\n",
       "      <td>1810</td>\n",
       "      <td>none</td>\n",
       "      <td>m4t u 'ation'phis day was published. in two ha...</td>\n",
       "      <td>0.7388</td>\n",
       "      <td>[MASK] [POL] m4t u 'ation'phis day was publish...</td>\n",
       "      <td>[MASK] [DATE] [MASK] [POL] [MASK] [LOC] m4t u ...</td>\n",
       "      <td>liberal</td>\n",
       "      <td>liberal</td>\n",
       "      <td>none</td>\n",
       "      <td>none</td>\n",
       "      <td>none</td>\n",
       "    </tr>\n",
       "    <tr>\n",
       "      <th>2</th>\n",
       "      <td>1842</td>\n",
       "      <td>conservative</td>\n",
       "      <td>8s and 15s 6doriginal testimonials, gratis, wi...</td>\n",
       "      <td>0.9446</td>\n",
       "      <td>[MASK] [POL] 8s and 15s 6doriginal testimonial...</td>\n",
       "      <td>[MASK] [DATE] [MASK] [POL] [MASK] [LOC] 8s and...</td>\n",
       "      <td>liberal</td>\n",
       "      <td>liberal</td>\n",
       "      <td>liberal</td>\n",
       "      <td>liberal</td>\n",
       "      <td>liberal</td>\n",
       "    </tr>\n",
       "    <tr>\n",
       "      <th>3</th>\n",
       "      <td>1841</td>\n",
       "      <td>liberal</td>\n",
       "      <td>american corn.—(loud cries of \"hear, hear,\" an...</td>\n",
       "      <td>0.9324</td>\n",
       "      <td>[MASK] [POL] american corn.—(loud cries of \"he...</td>\n",
       "      <td>[MASK] [DATE] [MASK] [POL] [MASK] [LOC] americ...</td>\n",
       "      <td>liberal</td>\n",
       "      <td>liberal</td>\n",
       "      <td>liberal</td>\n",
       "      <td>liberal</td>\n",
       "      <td>liberal</td>\n",
       "    </tr>\n",
       "    <tr>\n",
       "      <th>4</th>\n",
       "      <td>1844</td>\n",
       "      <td>liberal</td>\n",
       "      <td>all offices, except in cases otherwise pro-d i...</td>\n",
       "      <td>0.7492</td>\n",
       "      <td>[MASK] [POL] all offices, except in cases othe...</td>\n",
       "      <td>[MASK] [DATE] [MASK] [POL] [MASK] [LOC] all of...</td>\n",
       "      <td>liberal</td>\n",
       "      <td>liberal</td>\n",
       "      <td>liberal</td>\n",
       "      <td>liberal</td>\n",
       "      <td>liberal</td>\n",
       "    </tr>\n",
       "    <tr>\n",
       "      <th>...</th>\n",
       "      <td>...</td>\n",
       "      <td>...</td>\n",
       "      <td>...</td>\n",
       "      <td>...</td>\n",
       "      <td>...</td>\n",
       "      <td>...</td>\n",
       "      <td>...</td>\n",
       "      <td>...</td>\n",
       "      <td>...</td>\n",
       "      <td>...</td>\n",
       "      <td>...</td>\n",
       "    </tr>\n",
       "    <tr>\n",
       "      <th>995</th>\n",
       "      <td>1860</td>\n",
       "      <td>liberal</td>\n",
       "      <td>the personal interview about to takeplace betw...</td>\n",
       "      <td>0.9564</td>\n",
       "      <td>[MASK] [POL] the personal interview about to t...</td>\n",
       "      <td>[MASK] [DATE] [MASK] [POL] [MASK] [LOC] the pe...</td>\n",
       "      <td>liberal</td>\n",
       "      <td>liberal</td>\n",
       "      <td>liberal</td>\n",
       "      <td>liberal</td>\n",
       "      <td>liberal</td>\n",
       "    </tr>\n",
       "    <tr>\n",
       "      <th>996</th>\n",
       "      <td>1837</td>\n",
       "      <td>liberal</td>\n",
       "      <td>he could bring himself to,,,siderations. in mu...</td>\n",
       "      <td>0.8137</td>\n",
       "      <td>[MASK] [POL] he could bring himself to,,,sider...</td>\n",
       "      <td>[MASK] [DATE] [MASK] [POL] [MASK] [LOC] he cou...</td>\n",
       "      <td>liberal</td>\n",
       "      <td>liberal</td>\n",
       "      <td>liberal</td>\n",
       "      <td>liberal</td>\n",
       "      <td>liberal</td>\n",
       "    </tr>\n",
       "    <tr>\n",
       "      <th>997</th>\n",
       "      <td>1852</td>\n",
       "      <td>liberal</td>\n",
       "      <td>- . .for h idwith theg qualities., s n sal _po...</td>\n",
       "      <td>0.6146</td>\n",
       "      <td>[MASK] [POL] - . .for h idwith theg qualities....</td>\n",
       "      <td>[MASK] [DATE] [MASK] [POL] [MASK] [LOC] - . .f...</td>\n",
       "      <td>liberal</td>\n",
       "      <td>liberal</td>\n",
       "      <td>liberal</td>\n",
       "      <td>liberal</td>\n",
       "      <td>liberal</td>\n",
       "    </tr>\n",
       "    <tr>\n",
       "      <th>998</th>\n",
       "      <td>1839</td>\n",
       "      <td>liberal</td>\n",
       "      <td>challengedby the counsel for the prosecution),...</td>\n",
       "      <td>0.8009</td>\n",
       "      <td>[MASK] [POL] challengedby the counsel for the ...</td>\n",
       "      <td>[MASK] [DATE] [MASK] [POL] [MASK] [LOC] challe...</td>\n",
       "      <td>liberal</td>\n",
       "      <td>liberal</td>\n",
       "      <td>liberal</td>\n",
       "      <td>liberal</td>\n",
       "      <td>liberal</td>\n",
       "    </tr>\n",
       "    <tr>\n",
       "      <th>999</th>\n",
       "      <td>1812</td>\n",
       "      <td>none</td>\n",
       "      <td>and intoned wig.% fs wt-tred,hot-houses, conse...</td>\n",
       "      <td>0.7088</td>\n",
       "      <td>[MASK] [POL] and intoned wig.% fs wt-tred,hot-...</td>\n",
       "      <td>[MASK] [DATE] [MASK] [POL] [MASK] [LOC] and in...</td>\n",
       "      <td>liberal</td>\n",
       "      <td>liberal</td>\n",
       "      <td>none</td>\n",
       "      <td>none</td>\n",
       "      <td>none</td>\n",
       "    </tr>\n",
       "  </tbody>\n",
       "</table>\n",
       "<p>1000 rows × 11 columns</p>\n",
       "</div>"
      ],
      "text/plain": [
       "     year           pol                                          sentences  \\\n",
       "0    1839       liberal  such mea-sures, that triumphant majority which...   \n",
       "1    1810          none  m4t u 'ation'phis day was published. in two ha...   \n",
       "2    1842  conservative  8s and 15s 6doriginal testimonials, gratis, wi...   \n",
       "3    1841       liberal  american corn.—(loud cries of \"hear, hear,\" an...   \n",
       "4    1844       liberal  all offices, except in cases otherwise pro-d i...   \n",
       "..    ...           ...                                                ...   \n",
       "995  1860       liberal  the personal interview about to takeplace betw...   \n",
       "996  1837       liberal  he could bring himself to,,,siderations. in mu...   \n",
       "997  1852       liberal  - . .for h idwith theg qualities., s n sal _po...   \n",
       "998  1839       liberal  challengedby the counsel for the prosecution),...   \n",
       "999  1812          none  and intoned wig.% fs wt-tred,hot-houses, conse...   \n",
       "\n",
       "        ocr                                         masked_POL  \\\n",
       "0    0.9769  [MASK] [POL] such mea-sures, that triumphant m...   \n",
       "1    0.7388  [MASK] [POL] m4t u 'ation'phis day was publish...   \n",
       "2    0.9446  [MASK] [POL] 8s and 15s 6doriginal testimonial...   \n",
       "3    0.9324  [MASK] [POL] american corn.—(loud cries of \"he...   \n",
       "4    0.7492  [MASK] [POL] all offices, except in cases othe...   \n",
       "..      ...                                                ...   \n",
       "995  0.9564  [MASK] [POL] the personal interview about to t...   \n",
       "996  0.8137  [MASK] [POL] he could bring himself to,,,sider...   \n",
       "997  0.6146  [MASK] [POL] - . .for h idwith theg qualities....   \n",
       "998  0.8009  [MASK] [POL] challengedby the counsel for the ...   \n",
       "999  0.7088  [MASK] [POL] and intoned wig.% fs wt-tred,hot-...   \n",
       "\n",
       "                                           masked_COMB   random majority  \\\n",
       "0    [MASK] [DATE] [MASK] [POL] [MASK] [LOC] such m...  liberal  liberal   \n",
       "1    [MASK] [DATE] [MASK] [POL] [MASK] [LOC] m4t u ...  liberal  liberal   \n",
       "2    [MASK] [DATE] [MASK] [POL] [MASK] [LOC] 8s and...  liberal  liberal   \n",
       "3    [MASK] [DATE] [MASK] [POL] [MASK] [LOC] americ...  liberal  liberal   \n",
       "4    [MASK] [DATE] [MASK] [POL] [MASK] [LOC] all of...  liberal  liberal   \n",
       "..                                                 ...      ...      ...   \n",
       "995  [MASK] [DATE] [MASK] [POL] [MASK] [LOC] the pe...  liberal  liberal   \n",
       "996  [MASK] [DATE] [MASK] [POL] [MASK] [LOC] he cou...  liberal  liberal   \n",
       "997  [MASK] [DATE] [MASK] [POL] [MASK] [LOC] - . .f...  liberal  liberal   \n",
       "998  [MASK] [DATE] [MASK] [POL] [MASK] [LOC] challe...  liberal  liberal   \n",
       "999  [MASK] [DATE] [MASK] [POL] [MASK] [LOC] and in...  liberal  liberal   \n",
       "\n",
       "    bnert-pol-st bnert-pol bnert-comb  \n",
       "0        liberal   liberal    liberal  \n",
       "1           none      none       none  \n",
       "2        liberal   liberal    liberal  \n",
       "3        liberal   liberal    liberal  \n",
       "4        liberal   liberal    liberal  \n",
       "..           ...       ...        ...  \n",
       "995      liberal   liberal    liberal  \n",
       "996      liberal   liberal    liberal  \n",
       "997      liberal   liberal    liberal  \n",
       "998      liberal   liberal    liberal  \n",
       "999         none      none       none  \n",
       "\n",
       "[1000 rows x 11 columns]"
      ]
     },
     "execution_count": 135,
     "metadata": {},
     "output_type": "execute_result"
    }
   ],
   "source": [
    "results_df"
   ]
  },
  {
   "cell_type": "code",
   "execution_count": 136,
   "id": "38d71292",
   "metadata": {},
   "outputs": [],
   "source": [
    "results_df.to_csv('tables/pol_predict_random.csv')"
   ]
  },
  {
   "cell_type": "code",
   "execution_count": 137,
   "id": "a2563ca7",
   "metadata": {},
   "outputs": [
    {
     "name": "stderr",
     "output_type": "stream",
     "text": [
      "/datadrive_2/lm2/lib/python3.9/site-packages/sklearn/metrics/_classification.py:1334: UndefinedMetricWarning: Precision is ill-defined and being set to 0.0 in labels with no predicted samples. Use `zero_division` parameter to control this behavior.\n",
      "  _warn_prf(average, modifier, msg_start, len(result))\n"
     ]
    }
   ],
   "source": [
    "from sklearn.metrics import classification_report, f1_score, precision_score, recall_score\n",
    "result_table = defaultdict(dict)\n",
    "for m in ['random','majority','bnert-pol-st','bnert-pol','bnert-comb']:\n",
    "    for metric in [ f1_score, precision_score, recall_score]:\n",
    "        result_table[m][metric.__name__] = metric(results_df['pol'],results_df[m],average='macro')"
   ]
  },
  {
   "cell_type": "code",
   "execution_count": 138,
   "id": "de6071b0",
   "metadata": {},
   "outputs": [
    {
     "name": "stdout",
     "output_type": "stream",
     "text": [
      "\\begin{tabular}{lrrr}\n",
      "\\toprule\n",
      "{} &  f1\\_score &  precision\\_score &  recall\\_score \\\\\n",
      "\\midrule\n",
      "random       &     0.204 &            0.203 &         0.210 \\\\\n",
      "majority     &     0.172 &            0.151 &         0.200 \\\\\n",
      "bnert-pol-st &     0.467 &            0.709 &         0.397 \\\\\n",
      "bnert-pol    &     0.469 &            0.668 &         0.412 \\\\\n",
      "bnert-comb   &     0.470 &            0.713 &         0.402 \\\\\n",
      "\\bottomrule\n",
      "\\end{tabular}\n",
      "\n"
     ]
    },
    {
     "name": "stderr",
     "output_type": "stream",
     "text": [
      "/tmp/ipykernel_1391695/566518337.py:1: FutureWarning: In future versions `DataFrame.to_latex` is expected to utilise the base implementation of `Styler.to_latex` for formatting and rendering. The arguments signature may therefore change. It is recommended instead to use `DataFrame.style.to_latex` which also contains additional functionality.\n",
      "  print(pd.DataFrame(result_table).T.round(3).to_latex())\n"
     ]
    }
   ],
   "source": [
    "print(pd.DataFrame(result_table).T.round(3).to_latex())"
   ]
  },
  {
   "cell_type": "code",
   "execution_count": 72,
   "id": "24916967",
   "metadata": {},
   "outputs": [],
   "source": [
    "for c in results_df.columns:\n",
    "    if c.startswith('bnert'):\n",
    "        results_df[f'diff-{c}'] = results_df.apply(lambda x: abs(x.year - int(x[c].lstrip('[').rstrip(']'))),\n",
    "                                              axis=1)"
   ]
  },
  {
   "cell_type": "code",
   "execution_count": 73,
   "id": "f4a78ad1",
   "metadata": {},
   "outputs": [],
   "source": [
    "results_df.to_csv('tables/tm_year_predict_no_dates.csv')"
   ]
  },
  {
   "cell_type": "code",
   "execution_count": 74,
   "id": "5bbf5c3d",
   "metadata": {},
   "outputs": [
    {
     "name": "stdout",
     "output_type": "stream",
     "text": [
      "\\begin{tabular}{lr}\n",
      "\\toprule\n",
      "{} &       0 \\\\\n",
      "\\midrule\n",
      "diff\\_random                 &  19.458 \\\\\n",
      "diff\\_majority               &  13.929 \\\\\n",
      "diff-bnert-time-st-y        &   9.744 \\\\\n",
      "diff-bnert-time-y           &   8.625 \\\\\n",
      "diff-bnert-time-y\\_masked\\_25 &   7.756 \\\\\n",
      "diff-bnert-time-y\\_masked\\_75 &   6.317 \\\\\n",
      "\\bottomrule\n",
      "\\end{tabular}\n",
      "\n"
     ]
    },
    {
     "name": "stderr",
     "output_type": "stream",
     "text": [
      "/tmp/ipykernel_598854/959568573.py:1: FutureWarning: In future versions `DataFrame.to_latex` is expected to utilise the base implementation of `Styler.to_latex` for formatting and rendering. The arguments signature may therefore change. It is recommended instead to use `DataFrame.style.to_latex` which also contains additional functionality.\n",
      "  print(results_df[[c for c in results_df.columns if c.startswith('diff')]].mean(axis=0).to_latex())\n"
     ]
    }
   ],
   "source": [
    "print(results_df[[c for c in results_df.columns if c.startswith('diff')]].mean(axis=0).to_latex())"
   ]
  },
  {
   "cell_type": "code",
   "execution_count": 38,
   "id": "e87e2c07",
   "metadata": {},
   "outputs": [
    {
     "name": "stdout",
     "output_type": "stream",
     "text": [
      "\\begin{tabular}{lr}\n",
      "\\toprule\n",
      "{} &       0 \\\\\n",
      "\\midrule\n",
      "diff\\_random                 &  19.602 \\\\\n",
      "diff\\_majority               &  13.096 \\\\\n",
      "diff-bnert-time-st-y        &   9.420 \\\\\n",
      "diff-bnert-time-y           &   8.235 \\\\\n",
      "diff-bnert-time-y\\_masked\\_25 &   7.353 \\\\\n",
      "diff-bnert-time-y\\_masked\\_75 &   6.066 \\\\\n",
      "\\bottomrule\n",
      "\\end{tabular}\n",
      "\n"
     ]
    },
    {
     "name": "stderr",
     "output_type": "stream",
     "text": [
      "/tmp/ipykernel_598854/959568573.py:1: FutureWarning: In future versions `DataFrame.to_latex` is expected to utilise the base implementation of `Styler.to_latex` for formatting and rendering. The arguments signature may therefore change. It is recommended instead to use `DataFrame.style.to_latex` which also contains additional functionality.\n",
      "  print(results_df[[c for c in results_df.columns if c.startswith('diff')]].mean(axis=0).to_latex())\n"
     ]
    }
   ],
   "source": [
    "print(results_df[[c for c in results_df.columns if c.startswith('diff')]].mean(axis=0).to_latex())"
   ]
  },
  {
   "cell_type": "markdown",
   "id": "7240c34d",
   "metadata": {},
   "source": [
    "## Inspect Results\n",
    "    "
   ]
  },
  {
   "cell_type": "code",
   "execution_count": 77,
   "id": "a5705f15",
   "metadata": {},
   "outputs": [],
   "source": [
    "results_df_nodates = pd.read_csv('tables/tm_year_predict_no_dates.csv')\n",
    "results_df_withdates = pd.read_csv('tables/tm_year_predict_standard.csv')"
   ]
  },
  {
   "cell_type": "code",
   "execution_count": 84,
   "id": "83f7b628",
   "metadata": {},
   "outputs": [
    {
     "name": "stdout",
     "output_type": "stream",
     "text": [
      "\\begin{tabular}{lrr}\n",
      "\\toprule\n",
      "{} &       0 &       1 \\\\\n",
      "\\midrule\n",
      "diff\\_random                 &  19.458 &  19.602 \\\\\n",
      "diff\\_majority               &  13.929 &  13.096 \\\\\n",
      "diff-bnert-time-st-y        &   9.744 &   9.420 \\\\\n",
      "diff-bnert-time-y           &   8.625 &   8.235 \\\\\n",
      "diff-bnert-time-y\\_masked\\_25 &   7.756 &   7.353 \\\\\n",
      "diff-bnert-time-y\\_masked\\_75 &   6.317 &   6.066 \\\\\n",
      "\\bottomrule\n",
      "\\end{tabular}\n",
      "\n"
     ]
    },
    {
     "name": "stderr",
     "output_type": "stream",
     "text": [
      "/tmp/ipykernel_598854/3715123333.py:1: FutureWarning: In future versions `DataFrame.to_latex` is expected to utilise the base implementation of `Styler.to_latex` for formatting and rendering. The arguments signature may therefore change. It is recommended instead to use `DataFrame.style.to_latex` which also contains additional functionality.\n",
      "  print(pd.concat([results_df_nodates[[c for c in results_df_nodates.columns if c.startswith('diff')]].mean(axis=0),\n"
     ]
    }
   ],
   "source": [
    "print(pd.concat([results_df_nodates[[c for c in results_df_nodates.columns if c.startswith('diff')]].mean(axis=0),\n",
    "           results_df_withdates[[c for c in results_df_nodates.columns if c.startswith('diff')]].mean(axis=0)],axis=1\n",
    "                 ).round(3).to_latex())"
   ]
  },
  {
   "cell_type": "markdown",
   "id": "561c4871",
   "metadata": {},
   "source": [
    "# Fin."
   ]
  },
  {
   "cell_type": "code",
   "execution_count": 2,
   "id": "6c0fbc9b",
   "metadata": {},
   "outputs": [],
   "source": [
    "import pandas as pd\n",
    "results_df = pd.read_csv('tables/year_pred.csv')"
   ]
  },
  {
   "cell_type": "code",
   "execution_count": 3,
   "id": "56085589",
   "metadata": {},
   "outputs": [],
   "source": [
    "results_df[[c for c in results_df.columns if c.startswith('diff')]].mean(axis=0).to_csv('tables/year_pred.csv')"
   ]
  },
  {
   "cell_type": "code",
   "execution_count": 37,
   "id": "36016fe7",
   "metadata": {},
   "outputs": [
    {
     "data": {
      "text/html": [
       "<div>\n",
       "<style scoped>\n",
       "    .dataframe tbody tr th:only-of-type {\n",
       "        vertical-align: middle;\n",
       "    }\n",
       "\n",
       "    .dataframe tbody tr th {\n",
       "        vertical-align: top;\n",
       "    }\n",
       "\n",
       "    .dataframe thead th {\n",
       "        text-align: right;\n",
       "    }\n",
       "</style>\n",
       "<table border=\"1\" class=\"dataframe\">\n",
       "  <thead>\n",
       "    <tr style=\"text-align: right;\">\n",
       "      <th></th>\n",
       "      <th>year</th>\n",
       "      <th>nlp</th>\n",
       "      <th>sentences</th>\n",
       "      <th>ocr</th>\n",
       "      <th>diff_random</th>\n",
       "      <th>diff_majority</th>\n",
       "      <th>bnert-time-st-y</th>\n",
       "      <th>bnert-time-y</th>\n",
       "      <th>bnert-time-y_masked_25</th>\n",
       "      <th>bnert-time-y_masked_75</th>\n",
       "      <th>diff-bnert-time-st-y</th>\n",
       "      <th>diff-bnert-time-y</th>\n",
       "      <th>diff-bnert-time-y_masked_25</th>\n",
       "      <th>diff-bnert-time-y_masked_75</th>\n",
       "    </tr>\n",
       "  </thead>\n",
       "  <tbody>\n",
       "    <tr>\n",
       "      <th>0</th>\n",
       "      <td>1859</td>\n",
       "      <td>2084</td>\n",
       "      <td>sitenirranv, roy institute as tou ry, v. ireno...</td>\n",
       "      <td>0.6430</td>\n",
       "      <td>22</td>\n",
       "      <td>11</td>\n",
       "      <td>[1859]</td>\n",
       "      <td>1859</td>\n",
       "      <td>1860</td>\n",
       "      <td>1851</td>\n",
       "      <td>0</td>\n",
       "      <td>0</td>\n",
       "      <td>1</td>\n",
       "      <td>8</td>\n",
       "    </tr>\n",
       "    <tr>\n",
       "      <th>1</th>\n",
       "      <td>1850</td>\n",
       "      <td>2194</td>\n",
       "      <td>atveze,and she had a heavy beam-sea during the...</td>\n",
       "      <td>0.8156</td>\n",
       "      <td>8</td>\n",
       "      <td>12</td>\n",
       "      <td>[1853]</td>\n",
       "      <td>1853</td>\n",
       "      <td>1853</td>\n",
       "      <td>1853</td>\n",
       "      <td>3</td>\n",
       "      <td>3</td>\n",
       "      <td>3</td>\n",
       "      <td>3</td>\n",
       "    </tr>\n",
       "    <tr>\n",
       "      <th>2</th>\n",
       "      <td>1823</td>\n",
       "      <td>2194</td>\n",
       "      <td>withsuch regulations as we have alluded to. we...</td>\n",
       "      <td>0.9192</td>\n",
       "      <td>24</td>\n",
       "      <td>11</td>\n",
       "      <td>[1844]</td>\n",
       "      <td>1844</td>\n",
       "      <td>1844</td>\n",
       "      <td>1844</td>\n",
       "      <td>21</td>\n",
       "      <td>21</td>\n",
       "      <td>21</td>\n",
       "      <td>21</td>\n",
       "    </tr>\n",
       "    <tr>\n",
       "      <th>3</th>\n",
       "      <td>1848</td>\n",
       "      <td>2642</td>\n",
       "      <td>atthe several statutes and proceedings of the ...</td>\n",
       "      <td>0.8049</td>\n",
       "      <td>21</td>\n",
       "      <td>5</td>\n",
       "      <td>[1831]</td>\n",
       "      <td>1831</td>\n",
       "      <td>1831</td>\n",
       "      <td>1831</td>\n",
       "      <td>17</td>\n",
       "      <td>17</td>\n",
       "      <td>17</td>\n",
       "      <td>17</td>\n",
       "    </tr>\n",
       "    <tr>\n",
       "      <th>4</th>\n",
       "      <td>1848</td>\n",
       "      <td>2194</td>\n",
       "      <td>paid, to any address, secure fromobservation, ...</td>\n",
       "      <td>0.8958</td>\n",
       "      <td>3</td>\n",
       "      <td>15</td>\n",
       "      <td>[1844]</td>\n",
       "      <td>1844</td>\n",
       "      <td>1846</td>\n",
       "      <td>1848</td>\n",
       "      <td>4</td>\n",
       "      <td>4</td>\n",
       "      <td>2</td>\n",
       "      <td>0</td>\n",
       "    </tr>\n",
       "    <tr>\n",
       "      <th>...</th>\n",
       "      <td>...</td>\n",
       "      <td>...</td>\n",
       "      <td>...</td>\n",
       "      <td>...</td>\n",
       "      <td>...</td>\n",
       "      <td>...</td>\n",
       "      <td>...</td>\n",
       "      <td>...</td>\n",
       "      <td>...</td>\n",
       "      <td>...</td>\n",
       "      <td>...</td>\n",
       "      <td>...</td>\n",
       "      <td>...</td>\n",
       "      <td>...</td>\n",
       "    </tr>\n",
       "    <tr>\n",
       "      <th>995</th>\n",
       "      <td>1846</td>\n",
       "      <td>2194</td>\n",
       "      <td>thumb takes the giants down apeg or two—\" from...</td>\n",
       "      <td>0.7595</td>\n",
       "      <td>0</td>\n",
       "      <td>35</td>\n",
       "      <td>[1856]</td>\n",
       "      <td>1850</td>\n",
       "      <td>1849</td>\n",
       "      <td>1844</td>\n",
       "      <td>10</td>\n",
       "      <td>4</td>\n",
       "      <td>3</td>\n",
       "      <td>2</td>\n",
       "    </tr>\n",
       "    <tr>\n",
       "      <th>996</th>\n",
       "      <td>1823</td>\n",
       "      <td>2194</td>\n",
       "      <td>price of raw fat, per stone of glh.--d\"'6',dpr...</td>\n",
       "      <td>0.6541</td>\n",
       "      <td>31</td>\n",
       "      <td>17</td>\n",
       "      <td>[1846]</td>\n",
       "      <td>1847</td>\n",
       "      <td>1847</td>\n",
       "      <td>1831</td>\n",
       "      <td>23</td>\n",
       "      <td>24</td>\n",
       "      <td>24</td>\n",
       "      <td>8</td>\n",
       "    </tr>\n",
       "    <tr>\n",
       "      <th>997</th>\n",
       "      <td>1847</td>\n",
       "      <td>2194</td>\n",
       "      <td>of the various disorders arising from the foll...</td>\n",
       "      <td>0.5860</td>\n",
       "      <td>7</td>\n",
       "      <td>10</td>\n",
       "      <td>[1845]</td>\n",
       "      <td>1846</td>\n",
       "      <td>1845</td>\n",
       "      <td>1845</td>\n",
       "      <td>2</td>\n",
       "      <td>1</td>\n",
       "      <td>2</td>\n",
       "      <td>2</td>\n",
       "    </tr>\n",
       "    <tr>\n",
       "      <th>998</th>\n",
       "      <td>1845</td>\n",
       "      <td>2194</td>\n",
       "      <td>cinctitatt7wirmeon, friday.—the queen promenad...</td>\n",
       "      <td>0.9586</td>\n",
       "      <td>37</td>\n",
       "      <td>9</td>\n",
       "      <td>[1844]</td>\n",
       "      <td>1844</td>\n",
       "      <td>1844</td>\n",
       "      <td>1844</td>\n",
       "      <td>1</td>\n",
       "      <td>1</td>\n",
       "      <td>1</td>\n",
       "      <td>1</td>\n",
       "    </tr>\n",
       "    <tr>\n",
       "      <th>999</th>\n",
       "      <td>1825</td>\n",
       "      <td>2194</td>\n",
       "      <td>theolcvical in,structinn • in the nationaluniv...</td>\n",
       "      <td>0.8100</td>\n",
       "      <td>21</td>\n",
       "      <td>2</td>\n",
       "      <td>[1846]</td>\n",
       "      <td>1821</td>\n",
       "      <td>1821</td>\n",
       "      <td>1825</td>\n",
       "      <td>21</td>\n",
       "      <td>4</td>\n",
       "      <td>4</td>\n",
       "      <td>0</td>\n",
       "    </tr>\n",
       "  </tbody>\n",
       "</table>\n",
       "<p>1000 rows × 14 columns</p>\n",
       "</div>"
      ],
      "text/plain": [
       "     year   nlp                                          sentences     ocr  \\\n",
       "0    1859  2084  sitenirranv, roy institute as tou ry, v. ireno...  0.6430   \n",
       "1    1850  2194  atveze,and she had a heavy beam-sea during the...  0.8156   \n",
       "2    1823  2194  withsuch regulations as we have alluded to. we...  0.9192   \n",
       "3    1848  2642  atthe several statutes and proceedings of the ...  0.8049   \n",
       "4    1848  2194  paid, to any address, secure fromobservation, ...  0.8958   \n",
       "..    ...   ...                                                ...     ...   \n",
       "995  1846  2194  thumb takes the giants down apeg or two—\" from...  0.7595   \n",
       "996  1823  2194  price of raw fat, per stone of glh.--d\"'6',dpr...  0.6541   \n",
       "997  1847  2194  of the various disorders arising from the foll...  0.5860   \n",
       "998  1845  2194  cinctitatt7wirmeon, friday.—the queen promenad...  0.9586   \n",
       "999  1825  2194  theolcvical in,structinn • in the nationaluniv...  0.8100   \n",
       "\n",
       "     diff_random  diff_majority bnert-time-st-y bnert-time-y  \\\n",
       "0             22             11          [1859]         1859   \n",
       "1              8             12          [1853]         1853   \n",
       "2             24             11          [1844]         1844   \n",
       "3             21              5          [1831]         1831   \n",
       "4              3             15          [1844]         1844   \n",
       "..           ...            ...             ...          ...   \n",
       "995            0             35          [1856]         1850   \n",
       "996           31             17          [1846]         1847   \n",
       "997            7             10          [1845]         1846   \n",
       "998           37              9          [1844]         1844   \n",
       "999           21              2          [1846]         1821   \n",
       "\n",
       "    bnert-time-y_masked_25 bnert-time-y_masked_75  diff-bnert-time-st-y  \\\n",
       "0                     1860                   1851                     0   \n",
       "1                     1853                   1853                     3   \n",
       "2                     1844                   1844                    21   \n",
       "3                     1831                   1831                    17   \n",
       "4                     1846                   1848                     4   \n",
       "..                     ...                    ...                   ...   \n",
       "995                   1849                   1844                    10   \n",
       "996                   1847                   1831                    23   \n",
       "997                   1845                   1845                     2   \n",
       "998                   1844                   1844                     1   \n",
       "999                   1821                   1825                    21   \n",
       "\n",
       "     diff-bnert-time-y  diff-bnert-time-y_masked_25  \\\n",
       "0                    0                            1   \n",
       "1                    3                            3   \n",
       "2                   21                           21   \n",
       "3                   17                           17   \n",
       "4                    4                            2   \n",
       "..                 ...                          ...   \n",
       "995                  4                            3   \n",
       "996                 24                           24   \n",
       "997                  1                            2   \n",
       "998                  1                            1   \n",
       "999                  4                            4   \n",
       "\n",
       "     diff-bnert-time-y_masked_75  \n",
       "0                              8  \n",
       "1                              3  \n",
       "2                             21  \n",
       "3                             17  \n",
       "4                              0  \n",
       "..                           ...  \n",
       "995                            2  \n",
       "996                            8  \n",
       "997                            2  \n",
       "998                            1  \n",
       "999                            0  \n",
       "\n",
       "[1000 rows x 14 columns]"
      ]
     },
     "execution_count": 37,
     "metadata": {},
     "output_type": "execute_result"
    }
   ],
   "source": [
    "results_df"
   ]
  },
  {
   "cell_type": "code",
   "execution_count": null,
   "id": "3c4a34f1",
   "metadata": {},
   "outputs": [],
   "source": [
    "batches = get_sent_batches(test_set)"
   ]
  },
  {
   "cell_type": "code",
   "execution_count": null,
   "id": "a3753a1c",
   "metadata": {},
   "outputs": [],
   "source": [
    "batches = list(batches)"
   ]
  },
  {
   "cell_type": "code",
   "execution_count": null,
   "id": "1f9c5ab8",
   "metadata": {},
   "outputs": [],
   "source": [
    "len(batches[0])"
   ]
  },
  {
   "cell_type": "code",
   "execution_count": null,
   "id": "a2564c3b",
   "metadata": {},
   "outputs": [],
   "source": [
    "batch = batches[0]\n",
    "len(batch)"
   ]
  },
  {
   "cell_type": "code",
   "execution_count": null,
   "id": "0544f85b",
   "metadata": {},
   "outputs": [],
   "source": [
    "batch[0]"
   ]
  },
  {
   "cell_type": "code",
   "execution_count": null,
   "id": "1522daaa",
   "metadata": {},
   "outputs": [],
   "source": [
    "inputs = tokenizer(batch, return_tensors='pt', padding='longest')\n",
    "outputs = model(**inputs)"
   ]
  },
  {
   "cell_type": "code",
   "execution_count": null,
   "id": "344d47ad",
   "metadata": {},
   "outputs": [],
   "source": []
  },
  {
   "cell_type": "code",
   "execution_count": null,
   "id": "dc0f71ed",
   "metadata": {},
   "outputs": [],
   "source": [
    "tokenizer.decode(outputs.logits[:,1,:].argmax(dim=-1))"
   ]
  },
  {
   "cell_type": "code",
   "execution_count": null,
   "id": "41ee9eba",
   "metadata": {},
   "outputs": [],
   "source": [
    "mask_filler('[MASK] [SEP] Her Majesty the Queen.')"
   ]
  },
  {
   "cell_type": "code",
   "execution_count": null,
   "id": "f5e5933c",
   "metadata": {},
   "outputs": [],
   "source": [
    "years = np.array(test_data['train']['year'])\n",
    "mc_year = Counter(years).most_common(1)[0][0]; mc_year"
   ]
  },
  {
   "cell_type": "code",
   "execution_count": null,
   "id": "c2a86ed2",
   "metadata": {},
   "outputs": [],
   "source": []
  },
  {
   "cell_type": "code",
   "execution_count": null,
   "id": "0543fea2",
   "metadata": {},
   "outputs": [],
   "source": []
  },
  {
   "cell_type": "code",
   "execution_count": null,
   "id": "f89d29fe",
   "metadata": {},
   "outputs": [],
   "source": [
    "np.mean(test_set['diff_random'])"
   ]
  },
  {
   "cell_type": "code",
   "execution_count": null,
   "id": "45b3470f",
   "metadata": {},
   "outputs": [],
   "source": [
    "np.mean(test_set['diff_majority'])"
   ]
  },
  {
   "cell_type": "code",
   "execution_count": null,
   "id": "10132587",
   "metadata": {},
   "outputs": [],
   "source": [
    "def diff_first_prediction(example):\n",
    "    #try:\n",
    "        text = '[MASK] [MET] ' + example['sentences']\n",
    "        tokenized = tokenizer(text)\n",
    "        if len(tokenized['input_ids']) > 512:\n",
    "            print(len(text))\n",
    "            print(text)\n",
    "            text = tokenizer.decode(tokenized['input_ids'][:500]) + ' [SEP]'\n",
    "            print(text)\n",
    "            print(len(text))\n",
    "        predictions = mask_filler(text)\n",
    "        target_year = int(example['year'])\n",
    "        print(predictions)\n",
    "        pred_year = predictions[0]['token_str'].rstrip(']').lstrip('[')\n",
    "        print(pred_year)\n",
    "        return {'diff':abs(target_year-int(pred_year))}\n"
   ]
  },
  {
   "cell_type": "code",
   "execution_count": null,
   "id": "e82380df",
   "metadata": {},
   "outputs": [],
   "source": [
    "test_set = test_set.map(diff_first_prediction)"
   ]
  },
  {
   "cell_type": "code",
   "execution_count": null,
   "id": "4a370d8f",
   "metadata": {},
   "outputs": [],
   "source": [
    "data = test_set.remove_columns(['nlp', 'pol', 'sentences',])\n",
    "data = data.to_pandas()\n",
    "data['diff'].mean()"
   ]
  },
  {
   "cell_type": "code",
   "execution_count": null,
   "id": "b0014ad7",
   "metadata": {},
   "outputs": [],
   "source": [
    "data['diff_majority'] = test_set['diff_majority']\n",
    "data['diff_random'] = test_set['diff_random']\n",
    "data[['diff_majority','diff_random','diff']].plot(kind='density')"
   ]
  },
  {
   "cell_type": "code",
   "execution_count": null,
   "id": "9365b0b0",
   "metadata": {},
   "outputs": [],
   "source": [
    "import pandas as pd\n",
    "pd.DataFrame()"
   ]
  },
  {
   "cell_type": "code",
   "execution_count": null,
   "id": "25e6c6fc",
   "metadata": {},
   "outputs": [],
   "source": [
    "sns.scatterplot(x='year',y='diff',data=data)"
   ]
  },
  {
   "cell_type": "code",
   "execution_count": null,
   "id": "99c02051",
   "metadata": {},
   "outputs": [],
   "source": [
    "\n",
    "X = data[['year','ocr']]\n",
    "y = data['diff']\n",
    "reg = LinearRegression().fit(X, y)\n"
   ]
  },
  {
   "cell_type": "code",
   "execution_count": null,
   "id": "a7e7c2e0",
   "metadata": {},
   "outputs": [],
   "source": [
    "reg.score(X, y)"
   ]
  },
  {
   "cell_type": "code",
   "execution_count": null,
   "id": "9bd888c3",
   "metadata": {},
   "outputs": [],
   "source": [
    "\n"
   ]
  },
  {
   "cell_type": "code",
   "execution_count": null,
   "id": "1eff6f3e",
   "metadata": {},
   "outputs": [],
   "source": [
    "import numpy as np\n",
    "np.mean(test_set['diff'])"
   ]
  },
  {
   "cell_type": "code",
   "execution_count": null,
   "id": "33a7d5ea",
   "metadata": {},
   "outputs": [],
   "source": [
    "predictions = mask_filler('[MASK] [SEP] Hello, my Queen.')"
   ]
  },
  {
   "cell_type": "code",
   "execution_count": null,
   "id": "8c93b740",
   "metadata": {},
   "outputs": [],
   "source": [
    "predictions"
   ]
  },
  {
   "cell_type": "markdown",
   "id": "a43f5771",
   "metadata": {},
   "source": [
    "## Masking Pipeline"
   ]
  },
  {
   "cell_type": "code",
   "execution_count": null,
   "id": "76b32169",
   "metadata": {},
   "outputs": [],
   "source": [
    "\"Mr. Gladstone might be observed on the ministerial side of thehouse, making every sort of parliamentary endeavour to catch the Speaker's eye.\"\n",
    "\"Mr. Disraeli, however, preserved so much of his prerogtive as the hitherto recognised leader of her Majesty's Opposition as to obtain without difficulty the right of pre-audience.\"\n",
    "\n",
    "\n",
    "sent = \"The Prime Minister, Mr. [MASK] might be observed on the ministerial side of thehouse, making every sort of parliamentary endeavour to catch the Speaker's eye.\"\n",
    "#sent = \"Mr. Peel might be observed on the ministerial side of thehouse, making every sort of parliamentary endeavour to catch the Speaker's eye. Mr. [MASK], however, preserved so much of his prerogtive as the hitherto recognised leader of her Majesty's Opposition as to obtain without difficulty the right of pre-audience.\"\n",
    "\n"
   ]
  },
  {
   "cell_type": "code",
   "execution_count": null,
   "id": "105d54f4",
   "metadata": {},
   "outputs": [],
   "source": [
    "\n",
    "tokenizer = AutoTokenizer.from_pretrained(\"/datadrive_2/bnert_time\")\n",
    "mask_filler = pipeline(\n",
    "    \"fill-mask\", model=\"/datadrive_2/bnert_time\", top_k=5, tokenizer=tokenizer\n",
    ")\n"
   ]
  },
  {
   "cell_type": "code",
   "execution_count": null,
   "id": "064cc790",
   "metadata": {},
   "outputs": [],
   "source": [
    "text = f\"1830 [SEP] {sent}\"\n",
    "#text = '[MASK] [SEP] His Majesty spoke to the people.'\n",
    "preds = mask_filler(text)\n",
    "\n",
    "for pred in preds:\n",
    "    print(f\">>> {pred['sequence']}\")"
   ]
  },
  {
   "cell_type": "markdown",
   "id": "854bd72e",
   "metadata": {},
   "source": [
    "## Loading Model and Dataset\n",
    "\n",
    "### Dataset"
   ]
  },
  {
   "cell_type": "code",
   "execution_count": null,
   "id": "1bd34e98",
   "metadata": {},
   "outputs": [],
   "source": [
    "cache_dir = '/datadrive_2/hf_cache/'\n",
    "dataset = load_dataset(\"davanstrien/hmd_newspapers\", cache_dir=cache_dir)\n"
   ]
  },
  {
   "cell_type": "code",
   "execution_count": null,
   "id": "0eb37c21",
   "metadata": {},
   "outputs": [],
   "source": [
    "import re\n",
    "pattern = re.compile(r'(\\bprime\\sminister\\b)', re.I)\n",
    "#pattern.findall(\"gladstone  d'isreali\")"
   ]
  },
  {
   "cell_type": "code",
   "execution_count": null,
   "id": "e3666736",
   "metadata": {},
   "outputs": [],
   "source": [
    "prm = dataset.filter(lambda x: len(pattern.findall(x['text'])) > 0 , num_proc=12) "
   ]
  },
  {
   "cell_type": "code",
   "execution_count": null,
   "id": "4761e753",
   "metadata": {},
   "outputs": [],
   "source": [
    "a = prm.filter(lambda x: x['date'].year > 1850)"
   ]
  },
  {
   "cell_type": "code",
   "execution_count": null,
   "id": "b773a41d",
   "metadata": {},
   "outputs": [],
   "source": [
    "pattern1 = re.compile(r'(\\bgladstone|\\bisreali\\b)', re.I)\n",
    "prm1 = a.filter(lambda x: len(pattern1.findall(x['text'])) > 0 , num_proc=12) "
   ]
  },
  {
   "cell_type": "code",
   "execution_count": null,
   "id": "6da7d57d",
   "metadata": {},
   "outputs": [],
   "source": [
    "prm1['train'][4]"
   ]
  },
  {
   "cell_type": "code",
   "execution_count": null,
   "id": "9cb7ea28",
   "metadata": {},
   "outputs": [],
   "source": [
    "preds = [mask_filler('[MASK] [SEP] '+ text[:900]) for text in prm['train']['text'][:100]]"
   ]
  },
  {
   "cell_type": "code",
   "execution_count": null,
   "id": "32973b35",
   "metadata": {},
   "outputs": [],
   "source": [
    "#preds"
   ]
  },
  {
   "cell_type": "code",
   "execution_count": null,
   "id": "6c510572",
   "metadata": {},
   "outputs": [],
   "source": [
    "### Model"
   ]
  },
  {
   "cell_type": "code",
   "execution_count": null,
   "id": "51cd9be5",
   "metadata": {},
   "outputs": [],
   "source": [
    "model_checkpoint = \"bnert\"\n",
    "model = AutoModelForMaskedLM.from_pretrained(model_checkpoint)\n",
    "tokenizer = AutoTokenizer.from_pretrained(model_checkpoint)"
   ]
  },
  {
   "cell_type": "markdown",
   "id": "d0605e0c",
   "metadata": {},
   "source": [
    "## Extracting Vectors"
   ]
  },
  {
   "cell_type": "code",
   "execution_count": null,
   "id": "36a58180",
   "metadata": {},
   "outputs": [],
   "source": []
  }
 ],
 "metadata": {
  "kernelspec": {
   "display_name": "lm2",
   "language": "python",
   "name": "lm2"
  },
  "language_info": {
   "codemirror_mode": {
    "name": "ipython",
    "version": 3
   },
   "file_extension": ".py",
   "mimetype": "text/x-python",
   "name": "python",
   "nbconvert_exporter": "python",
   "pygments_lexer": "ipython3",
   "version": "3.9.12"
  }
 },
 "nbformat": 4,
 "nbformat_minor": 5
}
